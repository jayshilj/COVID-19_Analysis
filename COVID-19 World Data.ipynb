{
 "cells": [
  {
   "cell_type": "markdown",
   "metadata": {},
   "source": [
    "## COVID STATS WEB SCRAPING and ANALYSIS FOR ALL WORLD COUNTRIES\n",
    "## SCRIPT is 100% in working state as of 4/30/2020"
   ]
  },
  {
   "cell_type": "code",
   "execution_count": 1,
   "metadata": {},
   "outputs": [],
   "source": [
    "import pandas as pd\n",
    "#import geopandas as gpd\n",
    "import requests\n",
    "from bs4 import BeautifulSoup\n",
    "import re\n",
    "from datetime import date\n",
    "import pyodbc\n",
    "from datetime import datetime"
   ]
  },
  {
   "cell_type": "markdown",
   "metadata": {},
   "source": [
    "### Scraping new Data from www.worldometers.info"
   ]
  },
  {
   "cell_type": "code",
   "execution_count": 2,
   "metadata": {},
   "outputs": [],
   "source": [
    "r = requests.get(\"https://www.worldometers.info/coronavirus/\", headers={'User-agent': 'Mozilla/5.0 (X11; Ubuntu; Linux x86_64; rv:61.0) Gecko/20100101 Firefox/61.0'})\n",
    "c = r.content\n",
    "soup=BeautifulSoup(c,\"html.parser\")\n",
    "#print(soup.prettify)\n",
    "x1 = soup.title.string\n",
    "s = ''.join(x for x in x1 if x.isdigit())\n",
    "today = date.today()\n"
   ]
  },
  {
   "cell_type": "markdown",
   "metadata": {},
   "source": [
    "### Listing all the cases reported and Deaths occured till today"
   ]
  },
  {
   "cell_type": "code",
   "execution_count": 3,
   "metadata": {},
   "outputs": [
    {
     "name": "stdout",
     "output_type": "stream",
     "text": [
      "Cases Reported: as of  2020-04-30  is  323206\n",
      "Deaths Reported: as of  2020-04-30  is  228504\n"
     ]
    }
   ],
   "source": [
    "cases = s[0:6]\n",
    "print('Cases Reported: as of ',today,' is ',cases)\n",
    "deaths = s[7:13]\n",
    "print('Deaths Reported: as of ',today,' is ',deaths)\n",
    "table = soup.find('table')\n",
    "table_rows = table.find_all('tr')\n",
    "List = [] "
   ]
  },
  {
   "cell_type": "markdown",
   "metadata": {},
   "source": [
    "### Loooping to find the state Wise Division of cases & Arranging the data in the columnar format\n"
   ]
  },
  {
   "cell_type": "code",
   "execution_count": 4,
   "metadata": {},
   "outputs": [],
   "source": [
    "for tr in table_rows:\n",
    "    td = tr.find_all('td')\n",
    "    row = [i.text for i in td]\n",
    "    List.append(row)\n",
    "df = pd.DataFrame(List) \n",
    "df = df[1:202]\n",
    "df.columns = ['Country', 'Total_Cases', 'New_Cases', 'Total_Deaths', 'New_Deaths', 'Total_Recovered','Active_Cases','Serious_Cases', 'Total_Cases/1M_pop', 'Deaths/1M_pop', 'Total_Tests','Tests/1M_pop','Continent']\n"
   ]
  },
  {
   "cell_type": "markdown",
   "metadata": {},
   "source": [
    "### Cleaning the data"
   ]
  },
  {
   "cell_type": "code",
   "execution_count": 5,
   "metadata": {},
   "outputs": [
    {
     "data": {
      "text/html": [
       "<div>\n",
       "<style scoped>\n",
       "    .dataframe tbody tr th:only-of-type {\n",
       "        vertical-align: middle;\n",
       "    }\n",
       "\n",
       "    .dataframe tbody tr th {\n",
       "        vertical-align: top;\n",
       "    }\n",
       "\n",
       "    .dataframe thead th {\n",
       "        text-align: right;\n",
       "    }\n",
       "</style>\n",
       "<table border=\"1\" class=\"dataframe\">\n",
       "  <thead>\n",
       "    <tr style=\"text-align: right;\">\n",
       "      <th></th>\n",
       "      <th>Country</th>\n",
       "      <th>Total_Cases</th>\n",
       "      <th>New_Cases</th>\n",
       "      <th>Total_Deaths</th>\n",
       "      <th>New_Deaths</th>\n",
       "      <th>Total_Recovered</th>\n",
       "      <th>Active_Cases</th>\n",
       "      <th>Serious_Cases</th>\n",
       "      <th>Total_Cases/1M_pop</th>\n",
       "      <th>Deaths/1M_pop</th>\n",
       "      <th>Total_Tests</th>\n",
       "      <th>Tests/1M_pop</th>\n",
       "      <th>Continent</th>\n",
       "    </tr>\n",
       "  </thead>\n",
       "  <tbody>\n",
       "    <tr>\n",
       "      <td>1</td>\n",
       "      <td>\\nNorth America\\n</td>\n",
       "      <td>1152608</td>\n",
       "      <td>1682</td>\n",
       "      <td>67130</td>\n",
       "      <td>183</td>\n",
       "      <td>182769</td>\n",
       "      <td>902709</td>\n",
       "      <td>19940</td>\n",
       "      <td></td>\n",
       "      <td></td>\n",
       "      <td></td>\n",
       "      <td></td>\n",
       "      <td>North America</td>\n",
       "    </tr>\n",
       "    <tr>\n",
       "      <td>2</td>\n",
       "      <td>\\nEurope\\n</td>\n",
       "      <td>1356135</td>\n",
       "      <td>8755</td>\n",
       "      <td>133176</td>\n",
       "      <td>229</td>\n",
       "      <td>490098</td>\n",
       "      <td>732861</td>\n",
       "      <td>24139</td>\n",
       "      <td></td>\n",
       "      <td></td>\n",
       "      <td></td>\n",
       "      <td></td>\n",
       "      <td>Europe</td>\n",
       "    </tr>\n",
       "    <tr>\n",
       "      <td>3</td>\n",
       "      <td>\\nAsia\\n</td>\n",
       "      <td>510086</td>\n",
       "      <td>2758</td>\n",
       "      <td>18330</td>\n",
       "      <td>53</td>\n",
       "      <td>257384</td>\n",
       "      <td>234372</td>\n",
       "      <td>5778</td>\n",
       "      <td></td>\n",
       "      <td></td>\n",
       "      <td></td>\n",
       "      <td></td>\n",
       "      <td>Asia</td>\n",
       "    </tr>\n",
       "    <tr>\n",
       "      <td>4</td>\n",
       "      <td>\\nSouth America\\n</td>\n",
       "      <td>166468</td>\n",
       "      <td>654</td>\n",
       "      <td>8150</td>\n",
       "      <td>6</td>\n",
       "      <td>57298</td>\n",
       "      <td>101020</td>\n",
       "      <td>9748</td>\n",
       "      <td></td>\n",
       "      <td></td>\n",
       "      <td></td>\n",
       "      <td></td>\n",
       "      <td>South America</td>\n",
       "    </tr>\n",
       "    <tr>\n",
       "      <td>5</td>\n",
       "      <td>\\nOceania\\n</td>\n",
       "      <td>8330</td>\n",
       "      <td>8</td>\n",
       "      <td>110</td>\n",
       "      <td>2</td>\n",
       "      <td>7035</td>\n",
       "      <td>1185</td>\n",
       "      <td>41</td>\n",
       "      <td></td>\n",
       "      <td></td>\n",
       "      <td></td>\n",
       "      <td></td>\n",
       "      <td>Australia/Oceania</td>\n",
       "    </tr>\n",
       "    <tr>\n",
       "      <td>...</td>\n",
       "      <td>...</td>\n",
       "      <td>...</td>\n",
       "      <td>...</td>\n",
       "      <td>...</td>\n",
       "      <td>...</td>\n",
       "      <td>...</td>\n",
       "      <td>...</td>\n",
       "      <td>...</td>\n",
       "      <td>...</td>\n",
       "      <td>...</td>\n",
       "      <td>...</td>\n",
       "      <td>...</td>\n",
       "      <td>...</td>\n",
       "    </tr>\n",
       "    <tr>\n",
       "      <td>197</td>\n",
       "      <td>Saint Kitts and Nevis</td>\n",
       "      <td>15</td>\n",
       "      <td></td>\n",
       "      <td></td>\n",
       "      <td></td>\n",
       "      <td>6</td>\n",
       "      <td>9</td>\n",
       "      <td></td>\n",
       "      <td>282</td>\n",
       "      <td></td>\n",
       "      <td>293</td>\n",
       "      <td>5508</td>\n",
       "      <td>North America</td>\n",
       "    </tr>\n",
       "    <tr>\n",
       "      <td>198</td>\n",
       "      <td>Nicaragua</td>\n",
       "      <td>13</td>\n",
       "      <td></td>\n",
       "      <td>3</td>\n",
       "      <td></td>\n",
       "      <td>7</td>\n",
       "      <td>3</td>\n",
       "      <td></td>\n",
       "      <td>2</td>\n",
       "      <td>0.5</td>\n",
       "      <td></td>\n",
       "      <td></td>\n",
       "      <td>North America</td>\n",
       "    </tr>\n",
       "    <tr>\n",
       "      <td>199</td>\n",
       "      <td>Falkland Islands</td>\n",
       "      <td>13</td>\n",
       "      <td></td>\n",
       "      <td></td>\n",
       "      <td></td>\n",
       "      <td>11</td>\n",
       "      <td>2</td>\n",
       "      <td></td>\n",
       "      <td>3736</td>\n",
       "      <td></td>\n",
       "      <td>372</td>\n",
       "      <td>106897</td>\n",
       "      <td>South America</td>\n",
       "    </tr>\n",
       "    <tr>\n",
       "      <td>200</td>\n",
       "      <td>Turks and Caicos</td>\n",
       "      <td>12</td>\n",
       "      <td></td>\n",
       "      <td>1</td>\n",
       "      <td></td>\n",
       "      <td>5</td>\n",
       "      <td>6</td>\n",
       "      <td></td>\n",
       "      <td>310</td>\n",
       "      <td>26</td>\n",
       "      <td>83</td>\n",
       "      <td>2144</td>\n",
       "      <td>North America</td>\n",
       "    </tr>\n",
       "    <tr>\n",
       "      <td>201</td>\n",
       "      <td>Burundi</td>\n",
       "      <td>11</td>\n",
       "      <td></td>\n",
       "      <td>1</td>\n",
       "      <td></td>\n",
       "      <td>4</td>\n",
       "      <td>6</td>\n",
       "      <td></td>\n",
       "      <td>0.9</td>\n",
       "      <td>0.08</td>\n",
       "      <td>284</td>\n",
       "      <td>24</td>\n",
       "      <td>Africa</td>\n",
       "    </tr>\n",
       "  </tbody>\n",
       "</table>\n",
       "<p>201 rows × 13 columns</p>\n",
       "</div>"
      ],
      "text/plain": [
       "                   Country Total_Cases New_Cases Total_Deaths New_Deaths  \\\n",
       "1        \\nNorth America\\n     1152608      1682        67130        183   \n",
       "2               \\nEurope\\n     1356135      8755       133176        229   \n",
       "3                 \\nAsia\\n      510086      2758        18330         53   \n",
       "4        \\nSouth America\\n      166468       654         8150          6   \n",
       "5              \\nOceania\\n        8330         8          110          2   \n",
       "..                     ...         ...       ...          ...        ...   \n",
       "197  Saint Kitts and Nevis          15                                     \n",
       "198              Nicaragua          13                      3              \n",
       "199       Falkland Islands          13                                     \n",
       "200       Turks and Caicos          12                      1              \n",
       "201                Burundi          11                      1              \n",
       "\n",
       "    Total_Recovered Active_Cases Serious_Cases Total_Cases/1M_pop  \\\n",
       "1            182769       902709         19940                      \n",
       "2            490098       732861         24139                      \n",
       "3            257384       234372          5778                      \n",
       "4             57298       101020          9748                      \n",
       "5              7035         1185            41                      \n",
       "..              ...          ...           ...                ...   \n",
       "197               6            9                              282   \n",
       "198               7            3                                2   \n",
       "199              11            2                             3736   \n",
       "200               5            6                              310   \n",
       "201               4            6                              0.9   \n",
       "\n",
       "    Deaths/1M_pop Total_Tests Tests/1M_pop          Continent  \n",
       "1                                               North America  \n",
       "2                                                      Europe  \n",
       "3                                                        Asia  \n",
       "4                                               South America  \n",
       "5                                           Australia/Oceania  \n",
       "..            ...         ...          ...                ...  \n",
       "197                       293         5508      North America  \n",
       "198           0.5                               North America  \n",
       "199                       372       106897      South America  \n",
       "200            26          83         2144      North America  \n",
       "201          0.08         284           24             Africa  \n",
       "\n",
       "[201 rows x 13 columns]"
      ]
     },
     "execution_count": 5,
     "metadata": {},
     "output_type": "execute_result"
    }
   ],
   "source": [
    "def remove(string): \n",
    "    return string.replace(\" \", \"\")\n",
    "\n",
    "df['New_Cases'] = df['New_Cases'].str.replace('+', '')\n",
    "df['New_Cases'] = df['New_Cases'].str.replace(',','')\n",
    "remove(df['New_Cases'])\n",
    "\n",
    "df['New_Deaths'] = df['New_Deaths'].str.replace('+', '')\n",
    "df['New_Deaths'] = df['New_Deaths'].str.replace(',', '')\n",
    "df['New_Deaths'] = df['New_Deaths'].str.strip()\n",
    "remove(df['New_Deaths'])\n",
    "\n",
    "df['Total_Cases'] = df['Total_Cases'].str.replace(',', '')\n",
    "df['Total_Cases'] = df['Total_Cases'].str.replace('+', '')\n",
    "remove(df['Total_Cases'])\n",
    "\n",
    "df['Total_Deaths'] = df['Total_Deaths'].str.replace(',', '')\n",
    "df['Total_Deaths'] = df['Total_Deaths'].str.replace('+', '')\n",
    "df['Total_Deaths'] = df['Total_Deaths'].str.strip()\n",
    "remove(df['Total_Deaths'])\n",
    "\n",
    "df['Active_Cases'] = df['Active_Cases'].str.replace(',', '')\n",
    "df['Active_Cases'] = df['Active_Cases'].str.replace('+', '')\n",
    "remove(df['Active_Cases'] )\n",
    "\n",
    "df['Total_Recovered'] = df['Total_Recovered'].str.replace(',', '')\n",
    "df['Total_Recovered'] = df['Total_Recovered'].str.replace('+', '')\n",
    "df['Total_Recovered'] = df['Total_Recovered'].str.replace('N/A', '')\n",
    "remove(df['Total_Recovered'] )\n",
    "\n",
    "df['Serious_Cases'] = df['Serious_Cases'].str.replace(',', '')\n",
    "df['Serious_Cases'] = df['Serious_Cases'].str.replace('+', '')\n",
    "remove(df['Serious_Cases'] )\n",
    "\n",
    "df['Total_Cases/1M_pop'] = df['Total_Cases/1M_pop'].str.replace(',', '')\n",
    "df['Total_Cases/1M_pop'] = df['Total_Cases/1M_pop'].str.replace('+', '')\n",
    "remove(df['Serious_Cases'] )\n",
    "\n",
    "df['Total_Tests'] = df['Total_Tests'].str.replace(',', '')\n",
    "df['Total_Tests'] = df['Total_Tests'].str.replace('+', '')\n",
    "remove(df['Serious_Cases'] )\n",
    "\n",
    "df['Tests/1M_pop'] = df['Tests/1M_pop'].str.replace(',', '')\n",
    "df['Tests/1M_pop'] = df['Tests/1M_pop'].str.replace('+', '')\n",
    "remove(df['Tests/1M_pop'] )\n",
    "\n",
    "df.fillna(0)\n",
    "#df.replace('',0)\n",
    "\n",
    "df\n"
   ]
  },
  {
   "cell_type": "markdown",
   "metadata": {},
   "source": [
    "### Converting to Integer Format Replacing Blanks with 0's"
   ]
  },
  {
   "cell_type": "code",
   "execution_count": 6,
   "metadata": {},
   "outputs": [
    {
     "data": {
      "text/html": [
       "<div>\n",
       "<style scoped>\n",
       "    .dataframe tbody tr th:only-of-type {\n",
       "        vertical-align: middle;\n",
       "    }\n",
       "\n",
       "    .dataframe tbody tr th {\n",
       "        vertical-align: top;\n",
       "    }\n",
       "\n",
       "    .dataframe thead th {\n",
       "        text-align: right;\n",
       "    }\n",
       "</style>\n",
       "<table border=\"1\" class=\"dataframe\">\n",
       "  <thead>\n",
       "    <tr style=\"text-align: right;\">\n",
       "      <th></th>\n",
       "      <th>Country</th>\n",
       "      <th>Total_Cases</th>\n",
       "      <th>New_Cases</th>\n",
       "      <th>Total_Deaths</th>\n",
       "      <th>New_Deaths</th>\n",
       "      <th>Total_Recovered</th>\n",
       "      <th>Active_Cases</th>\n",
       "      <th>Serious_Cases</th>\n",
       "      <th>Total_Cases/1M_pop</th>\n",
       "      <th>Deaths/1M_pop</th>\n",
       "      <th>Total_Tests</th>\n",
       "      <th>Tests/1M_pop</th>\n",
       "      <th>Continent</th>\n",
       "    </tr>\n",
       "  </thead>\n",
       "  <tbody>\n",
       "    <tr>\n",
       "      <td>1</td>\n",
       "      <td>\\nNorth America\\n</td>\n",
       "      <td>1152608</td>\n",
       "      <td>1682</td>\n",
       "      <td>67130</td>\n",
       "      <td>183</td>\n",
       "      <td>182769</td>\n",
       "      <td>902709</td>\n",
       "      <td>19940</td>\n",
       "      <td>0</td>\n",
       "      <td>0</td>\n",
       "      <td>0</td>\n",
       "      <td>0</td>\n",
       "      <td>North America</td>\n",
       "    </tr>\n",
       "    <tr>\n",
       "      <td>2</td>\n",
       "      <td>\\nEurope\\n</td>\n",
       "      <td>1356135</td>\n",
       "      <td>8755</td>\n",
       "      <td>133176</td>\n",
       "      <td>229</td>\n",
       "      <td>490098</td>\n",
       "      <td>732861</td>\n",
       "      <td>24139</td>\n",
       "      <td>0</td>\n",
       "      <td>0</td>\n",
       "      <td>0</td>\n",
       "      <td>0</td>\n",
       "      <td>Europe</td>\n",
       "    </tr>\n",
       "    <tr>\n",
       "      <td>3</td>\n",
       "      <td>\\nAsia\\n</td>\n",
       "      <td>510086</td>\n",
       "      <td>2758</td>\n",
       "      <td>18330</td>\n",
       "      <td>53</td>\n",
       "      <td>257384</td>\n",
       "      <td>234372</td>\n",
       "      <td>5778</td>\n",
       "      <td>0</td>\n",
       "      <td>0</td>\n",
       "      <td>0</td>\n",
       "      <td>0</td>\n",
       "      <td>Asia</td>\n",
       "    </tr>\n",
       "    <tr>\n",
       "      <td>4</td>\n",
       "      <td>\\nSouth America\\n</td>\n",
       "      <td>166468</td>\n",
       "      <td>654</td>\n",
       "      <td>8150</td>\n",
       "      <td>6</td>\n",
       "      <td>57298</td>\n",
       "      <td>101020</td>\n",
       "      <td>9748</td>\n",
       "      <td>0</td>\n",
       "      <td>0</td>\n",
       "      <td>0</td>\n",
       "      <td>0</td>\n",
       "      <td>South America</td>\n",
       "    </tr>\n",
       "    <tr>\n",
       "      <td>5</td>\n",
       "      <td>\\nOceania\\n</td>\n",
       "      <td>8330</td>\n",
       "      <td>8</td>\n",
       "      <td>110</td>\n",
       "      <td>2</td>\n",
       "      <td>7035</td>\n",
       "      <td>1185</td>\n",
       "      <td>41</td>\n",
       "      <td>0</td>\n",
       "      <td>0</td>\n",
       "      <td>0</td>\n",
       "      <td>0</td>\n",
       "      <td>Australia/Oceania</td>\n",
       "    </tr>\n",
       "    <tr>\n",
       "      <td>...</td>\n",
       "      <td>...</td>\n",
       "      <td>...</td>\n",
       "      <td>...</td>\n",
       "      <td>...</td>\n",
       "      <td>...</td>\n",
       "      <td>...</td>\n",
       "      <td>...</td>\n",
       "      <td>...</td>\n",
       "      <td>...</td>\n",
       "      <td>...</td>\n",
       "      <td>...</td>\n",
       "      <td>...</td>\n",
       "      <td>...</td>\n",
       "    </tr>\n",
       "    <tr>\n",
       "      <td>197</td>\n",
       "      <td>Saint Kitts and Nevis</td>\n",
       "      <td>15</td>\n",
       "      <td>0</td>\n",
       "      <td>0</td>\n",
       "      <td>0</td>\n",
       "      <td>6</td>\n",
       "      <td>9</td>\n",
       "      <td>0</td>\n",
       "      <td>282</td>\n",
       "      <td>0</td>\n",
       "      <td>293</td>\n",
       "      <td>5508</td>\n",
       "      <td>North America</td>\n",
       "    </tr>\n",
       "    <tr>\n",
       "      <td>198</td>\n",
       "      <td>Nicaragua</td>\n",
       "      <td>13</td>\n",
       "      <td>0</td>\n",
       "      <td>3</td>\n",
       "      <td>0</td>\n",
       "      <td>7</td>\n",
       "      <td>3</td>\n",
       "      <td>0</td>\n",
       "      <td>2</td>\n",
       "      <td>0.5</td>\n",
       "      <td>0</td>\n",
       "      <td>0</td>\n",
       "      <td>North America</td>\n",
       "    </tr>\n",
       "    <tr>\n",
       "      <td>199</td>\n",
       "      <td>Falkland Islands</td>\n",
       "      <td>13</td>\n",
       "      <td>0</td>\n",
       "      <td>0</td>\n",
       "      <td>0</td>\n",
       "      <td>11</td>\n",
       "      <td>2</td>\n",
       "      <td>0</td>\n",
       "      <td>3736</td>\n",
       "      <td>0</td>\n",
       "      <td>372</td>\n",
       "      <td>106897</td>\n",
       "      <td>South America</td>\n",
       "    </tr>\n",
       "    <tr>\n",
       "      <td>200</td>\n",
       "      <td>Turks and Caicos</td>\n",
       "      <td>12</td>\n",
       "      <td>0</td>\n",
       "      <td>1</td>\n",
       "      <td>0</td>\n",
       "      <td>5</td>\n",
       "      <td>6</td>\n",
       "      <td>0</td>\n",
       "      <td>310</td>\n",
       "      <td>26</td>\n",
       "      <td>83</td>\n",
       "      <td>2144</td>\n",
       "      <td>North America</td>\n",
       "    </tr>\n",
       "    <tr>\n",
       "      <td>201</td>\n",
       "      <td>Burundi</td>\n",
       "      <td>11</td>\n",
       "      <td>0</td>\n",
       "      <td>1</td>\n",
       "      <td>0</td>\n",
       "      <td>4</td>\n",
       "      <td>6</td>\n",
       "      <td>0</td>\n",
       "      <td>0.9</td>\n",
       "      <td>0.08</td>\n",
       "      <td>284</td>\n",
       "      <td>24</td>\n",
       "      <td>Africa</td>\n",
       "    </tr>\n",
       "  </tbody>\n",
       "</table>\n",
       "<p>201 rows × 13 columns</p>\n",
       "</div>"
      ],
      "text/plain": [
       "                   Country  Total_Cases  New_Cases  Total_Deaths  New_Deaths  \\\n",
       "1        \\nNorth America\\n      1152608       1682         67130         183   \n",
       "2               \\nEurope\\n      1356135       8755        133176         229   \n",
       "3                 \\nAsia\\n       510086       2758         18330          53   \n",
       "4        \\nSouth America\\n       166468        654          8150           6   \n",
       "5              \\nOceania\\n         8330          8           110           2   \n",
       "..                     ...          ...        ...           ...         ...   \n",
       "197  Saint Kitts and Nevis           15          0             0           0   \n",
       "198              Nicaragua           13          0             3           0   \n",
       "199       Falkland Islands           13          0             0           0   \n",
       "200       Turks and Caicos           12          0             1           0   \n",
       "201                Burundi           11          0             1           0   \n",
       "\n",
       "     Total_Recovered  Active_Cases  Serious_Cases Total_Cases/1M_pop  \\\n",
       "1             182769        902709          19940                  0   \n",
       "2             490098        732861          24139                  0   \n",
       "3             257384        234372           5778                  0   \n",
       "4              57298        101020           9748                  0   \n",
       "5               7035          1185             41                  0   \n",
       "..               ...           ...            ...                ...   \n",
       "197                6             9              0                282   \n",
       "198                7             3              0                  2   \n",
       "199               11             2              0               3736   \n",
       "200                5             6              0                310   \n",
       "201                4             6              0                0.9   \n",
       "\n",
       "    Deaths/1M_pop  Total_Tests Tests/1M_pop          Continent  \n",
       "1               0            0            0      North America  \n",
       "2               0            0            0             Europe  \n",
       "3               0            0            0               Asia  \n",
       "4               0            0            0      South America  \n",
       "5               0            0            0  Australia/Oceania  \n",
       "..            ...          ...          ...                ...  \n",
       "197             0          293         5508      North America  \n",
       "198           0.5            0            0      North America  \n",
       "199             0          372       106897      South America  \n",
       "200            26           83         2144      North America  \n",
       "201          0.08          284           24             Africa  \n",
       "\n",
       "[201 rows x 13 columns]"
      ]
     },
     "execution_count": 6,
     "metadata": {},
     "output_type": "execute_result"
    }
   ],
   "source": [
    "def convert_fill(df):\n",
    "    return df.stack().apply(pd.to_numeric, errors='ignore').fillna(0).unstack()\n",
    "\n",
    "df  = convert_fill(df)\n",
    "\n",
    "df['Total_Cases'] = df['Total_Cases'].astype(int)\n",
    "\n",
    "df['Total_Deaths'] = df['Total_Deaths'].astype(int)\n",
    "\n",
    "df['New_Cases'] = df['New_Cases'].astype(int)\n",
    "\n",
    "df['Active_Cases'] = df['Active_Cases'].astype(int)\n",
    "\n",
    "df['Total_Recovered'] = df['Total_Recovered'].astype(int)\n",
    "\n",
    "df['New_Deaths'] = df['New_Deaths'].astype(int)\n",
    "\n",
    "df['Serious_Cases'] = df['Serious_Cases'].astype(int)\n",
    "\n",
    "#df['Total_Cases/1M_pop'] = df['Total_Cases/1M_pop'].astype(int)\n",
    "\n",
    "#df['Deaths/1M_pop'] = df['Deaths/1M_pop'].astype(int)\n",
    "\n",
    "df['Total_Tests'] = df['Total_Tests'].astype(int)\n",
    "\n",
    "\n",
    "df"
   ]
  },
  {
   "cell_type": "markdown",
   "metadata": {},
   "source": [
    "### Seperating Countries and Continent Data"
   ]
  },
  {
   "cell_type": "code",
   "execution_count": 7,
   "metadata": {},
   "outputs": [
    {
     "name": "stderr",
     "output_type": "stream",
     "text": [
      "C:\\Users\\jaysh\\Anaconda3\\lib\\site-packages\\ipykernel_launcher.py:4: SettingWithCopyWarning: \n",
      "A value is trying to be set on a copy of a slice from a DataFrame.\n",
      "Try using .loc[row_indexer,col_indexer] = value instead\n",
      "\n",
      "See the caveats in the documentation: http://pandas.pydata.org/pandas-docs/stable/user_guide/indexing.html#returning-a-view-versus-a-copy\n",
      "  after removing the cwd from sys.path.\n"
     ]
    }
   ],
   "source": [
    "df_country = df[7:]\n",
    "\n",
    "df_continent = df[0:7]\n",
    "df_continent['Country'] = df_continent['Country'].str.strip()"
   ]
  },
  {
   "cell_type": "markdown",
   "metadata": {},
   "source": [
    "### Plotting Bar Graphs and TreeMap"
   ]
  },
  {
   "cell_type": "code",
   "execution_count": 8,
   "metadata": {},
   "outputs": [],
   "source": [
    "dfplot = df_country.head(10)"
   ]
  },
  {
   "cell_type": "code",
   "execution_count": 9,
   "metadata": {},
   "outputs": [],
   "source": [
    "dfplot = dfplot[1:7]"
   ]
  },
  {
   "cell_type": "code",
   "execution_count": 75,
   "metadata": {},
   "outputs": [
    {
     "data": {
      "image/png": "[encoded data removed]",
      "text/plain": [
       "<Figure size 432x288 with 1 Axes>"
      ]
     },
     "metadata": {
      "needs_background": "light"
     },
     "output_type": "display_data"
    }
   ],
   "source": [
    "Total_Cases = dfplot['Total_Cases'].values.tolist()\n",
    "Total_Deaths = dfplot['Total_Deaths'].values.tolist()\n",
    "Active_Cases = dfplot['Active_Cases'].values.tolist()\n",
    "Total_Tests = dfplot['Total_Tests'].values.tolist()\n",
    "\n",
    "State = dfplot['Country'].values.tolist()\n",
    "index = State\n",
    "dfplot1 = pd.DataFrame({'Total_Cases': Total_Cases,\n",
    "                      'Active_Cases': Active_Cases,\n",
    "                      'Total_Deaths': Total_Deaths}, \n",
    "                       index = index)\n",
    "\n",
    "ax = dfplot1.plot.bar(rot=0)"
   ]
  },
  {
   "cell_type": "code",
   "execution_count": 11,
   "metadata": {},
   "outputs": [
    {
     "data": {
      "image/png": "[encoded data removed]",
      "text/plain": [
       "<Figure size 432x288 with 1 Axes>"
      ]
     },
     "metadata": {
      "needs_background": "light"
     },
     "output_type": "display_data"
    }
   ],
   "source": [
    "Total_Cases = dfplot['Total_Cases'].values.tolist()\n",
    "Total_Deaths = dfplot['Total_Deaths'].values.tolist()\n",
    "Active_Cases = dfplot['Active_Cases'].values.tolist()\n",
    "Total_Tests = dfplot['Total_Tests'].values.tolist()\n",
    "\n",
    "State = dfplot['Country'].values.tolist()\n",
    "index = State\n",
    "dfplot1 = pd.DataFrame({'Total_Tests': Total_Tests,\n",
    "                      'Total_Cases': Total_Cases}, \n",
    "                       index = index)\n",
    "\n",
    "ax = dfplot1.plot.bar(rot=0)"
   ]
  },
  {
   "cell_type": "code",
   "execution_count": 12,
   "metadata": {},
   "outputs": [
    {
     "data": {
      "image/png": "[encoded data removed]",
      "text/plain": [
       "<Figure size 432x288 with 1 Axes>"
      ]
     },
     "metadata": {
      "needs_background": "light"
     },
     "output_type": "display_data"
    }
   ],
   "source": [
    "import matplotlib\n",
    "import matplotlib.pyplot as plt\n",
    "import squarify    # pip install squarify (algorithm for treemap)\n",
    " \n",
    "my_values=[i**3 for i in range(1,1000)]\n",
    "cmap = matplotlib.cm.Blues\n",
    "mini=min(my_values)\n",
    "maxi=max(my_values)\n",
    "norm = matplotlib.colors.Normalize(vmin=mini, vmax=maxi)\n",
    "colors = [cmap(norm(value)) for value in my_values]\n",
    "\n",
    "# If you have 2 lists\n",
    "# squarify.plot(sizes=Total_Cases, label=State, alpha=.7, color = colors)\n",
    "# plt.axis('off')\n",
    "# plt.show()\n",
    "\n",
    "squarify.plot(sizes=Total_Cases, label=State, alpha=.8 )\n",
    "plt.axis('off')\n",
    "plt.show()"
   ]
  },
  {
   "cell_type": "markdown",
   "metadata": {},
   "source": [
    "### Connecting to SQL SERVER to store data in relational format"
   ]
  },
  {
   "cell_type": "code",
   "execution_count": 13,
   "metadata": {},
   "outputs": [],
   "source": [
    "#Define the server name and the database name\n",
    "server = 'Jayshil'\n",
    "database = 'usacovid19'\n",
    "\n",
    "#define our connection string\n",
    "\n",
    "cnxn = pyodbc.connect('DRIVER={ODBC Driver 17 for SQL Server};\\\n",
    "                        SERVER='+server+';\\\n",
    "                        DATABASE='+ database+';\\\n",
    "                        Trusted_Connection=yes;')\n",
    "\n",
    "\n",
    "cursor = cnxn.cursor()"
   ]
  },
  {
   "cell_type": "markdown",
   "metadata": {},
   "source": [
    "### Inserting Country DATA to the SQL SERVER\n"
   ]
  },
  {
   "cell_type": "code",
   "execution_count": 14,
   "metadata": {},
   "outputs": [],
   "source": [
    "for index,row in df_country.iterrows():\n",
    "    cursor.execute(\"\"\"INSERT INTO Country_Records ([Country],\n",
    "                   [Total_Cases],[New_Cases],[Total_Deaths],[New_Deaths],[Active_Cases],\n",
    "                   [Total_Tests],[Serious_Cases],[Total_Recovered],[Continent], [Date])\n",
    "     VALUES (?,?,?,?,?,?,?,?,?,?,?)\"\"\", \n",
    "                            row['Country'], \n",
    "                            row['Total_Cases'], \n",
    "                            row['New_Cases'],\n",
    "                            row['Total_Deaths'],\n",
    "                            row['New_Deaths'],\n",
    "                            row['Active_Cases'],\n",
    "                            row['Total_Tests'],\n",
    "                            row['Serious_Cases'],\n",
    "                            row['Total_Recovered'],\n",
    "                            row['Continent'],\n",
    "                            datetime.now()) \n",
    "cnxn.commit()\n",
    "cursor.close()\n",
    "cnxn.close()"
   ]
  },
  {
   "cell_type": "code",
   "execution_count": 15,
   "metadata": {},
   "outputs": [],
   "source": [
    "server = 'Jayshil'\n",
    "database = 'usacovid19'\n",
    "\n",
    "#define our connection string\n",
    "\n",
    "cnxn = pyodbc.connect('DRIVER={ODBC Driver 17 for SQL Server};\\\n",
    "                        SERVER='+server+';\\\n",
    "                        DATABASE='+ database+';\\\n",
    "                        Trusted_Connection=yes;')\n",
    "cursor = cnxn.cursor()\n",
    "\n",
    "SQL_Query = pd.read_sql_query('''SELECT * FROM [Country_Records]''', cnxn)\n",
    "\n",
    "cursor.close()"
   ]
  },
  {
   "cell_type": "code",
   "execution_count": 16,
   "metadata": {},
   "outputs": [
    {
     "data": {
      "text/html": [
       "<div>\n",
       "<style scoped>\n",
       "    .dataframe tbody tr th:only-of-type {\n",
       "        vertical-align: middle;\n",
       "    }\n",
       "\n",
       "    .dataframe tbody tr th {\n",
       "        vertical-align: top;\n",
       "    }\n",
       "\n",
       "    .dataframe thead th {\n",
       "        text-align: right;\n",
       "    }\n",
       "</style>\n",
       "<table border=\"1\" class=\"dataframe\">\n",
       "  <thead>\n",
       "    <tr style=\"text-align: right;\">\n",
       "      <th></th>\n",
       "      <th>Country</th>\n",
       "      <th>Total_Cases</th>\n",
       "      <th>New_Cases</th>\n",
       "      <th>Total_Deaths</th>\n",
       "      <th>New_Deaths</th>\n",
       "      <th>Active_Cases</th>\n",
       "      <th>Total_Tests</th>\n",
       "      <th>Serious_Cases</th>\n",
       "      <th>Total_Recovered</th>\n",
       "      <th>Continent</th>\n",
       "      <th>Date</th>\n",
       "    </tr>\n",
       "  </thead>\n",
       "  <tbody>\n",
       "    <tr>\n",
       "      <td>0</td>\n",
       "      <td>World</td>\n",
       "      <td>3232061</td>\n",
       "      <td>13877</td>\n",
       "      <td>228504</td>\n",
       "      <td>474</td>\n",
       "      <td>1995692</td>\n",
       "      <td>0</td>\n",
       "      <td>59772</td>\n",
       "      <td>1007865</td>\n",
       "      <td>All</td>\n",
       "      <td>2020-04-30 05:18:31.813</td>\n",
       "    </tr>\n",
       "    <tr>\n",
       "      <td>1</td>\n",
       "      <td>USA</td>\n",
       "      <td>1064572</td>\n",
       "      <td>378</td>\n",
       "      <td>61669</td>\n",
       "      <td>13</td>\n",
       "      <td>855492</td>\n",
       "      <td>6139911</td>\n",
       "      <td>18671</td>\n",
       "      <td>147411</td>\n",
       "      <td>North America</td>\n",
       "      <td>2020-04-30 05:18:31.817</td>\n",
       "    </tr>\n",
       "    <tr>\n",
       "      <td>2</td>\n",
       "      <td>Spain</td>\n",
       "      <td>236899</td>\n",
       "      <td>0</td>\n",
       "      <td>24275</td>\n",
       "      <td>0</td>\n",
       "      <td>79695</td>\n",
       "      <td>1414477</td>\n",
       "      <td>7764</td>\n",
       "      <td>132929</td>\n",
       "      <td>Europe</td>\n",
       "      <td>2020-04-30 05:18:31.820</td>\n",
       "    </tr>\n",
       "    <tr>\n",
       "      <td>3</td>\n",
       "      <td>Italy</td>\n",
       "      <td>203591</td>\n",
       "      <td>0</td>\n",
       "      <td>27682</td>\n",
       "      <td>0</td>\n",
       "      <td>104657</td>\n",
       "      <td>1910761</td>\n",
       "      <td>1795</td>\n",
       "      <td>71252</td>\n",
       "      <td>Europe</td>\n",
       "      <td>2020-04-30 05:18:31.820</td>\n",
       "    </tr>\n",
       "    <tr>\n",
       "      <td>4</td>\n",
       "      <td>France</td>\n",
       "      <td>166420</td>\n",
       "      <td>0</td>\n",
       "      <td>24087</td>\n",
       "      <td>0</td>\n",
       "      <td>94105</td>\n",
       "      <td>463662</td>\n",
       "      <td>4207</td>\n",
       "      <td>48228</td>\n",
       "      <td>Europe</td>\n",
       "      <td>2020-04-30 05:18:31.823</td>\n",
       "    </tr>\n",
       "    <tr>\n",
       "      <td>...</td>\n",
       "      <td>...</td>\n",
       "      <td>...</td>\n",
       "      <td>...</td>\n",
       "      <td>...</td>\n",
       "      <td>...</td>\n",
       "      <td>...</td>\n",
       "      <td>...</td>\n",
       "      <td>...</td>\n",
       "      <td>...</td>\n",
       "      <td>...</td>\n",
       "      <td>...</td>\n",
       "    </tr>\n",
       "    <tr>\n",
       "      <td>189</td>\n",
       "      <td>Saint Kitts and Nevis</td>\n",
       "      <td>15</td>\n",
       "      <td>0</td>\n",
       "      <td>0</td>\n",
       "      <td>0</td>\n",
       "      <td>9</td>\n",
       "      <td>293</td>\n",
       "      <td>0</td>\n",
       "      <td>6</td>\n",
       "      <td>North America</td>\n",
       "      <td>2020-04-30 05:18:31.910</td>\n",
       "    </tr>\n",
       "    <tr>\n",
       "      <td>190</td>\n",
       "      <td>Nicaragua</td>\n",
       "      <td>13</td>\n",
       "      <td>0</td>\n",
       "      <td>3</td>\n",
       "      <td>0</td>\n",
       "      <td>3</td>\n",
       "      <td>0</td>\n",
       "      <td>0</td>\n",
       "      <td>7</td>\n",
       "      <td>North America</td>\n",
       "      <td>2020-04-30 05:18:31.913</td>\n",
       "    </tr>\n",
       "    <tr>\n",
       "      <td>191</td>\n",
       "      <td>Falkland Islands</td>\n",
       "      <td>13</td>\n",
       "      <td>0</td>\n",
       "      <td>0</td>\n",
       "      <td>0</td>\n",
       "      <td>2</td>\n",
       "      <td>372</td>\n",
       "      <td>0</td>\n",
       "      <td>11</td>\n",
       "      <td>South America</td>\n",
       "      <td>2020-04-30 05:18:31.913</td>\n",
       "    </tr>\n",
       "    <tr>\n",
       "      <td>192</td>\n",
       "      <td>Turks and Caicos</td>\n",
       "      <td>12</td>\n",
       "      <td>0</td>\n",
       "      <td>1</td>\n",
       "      <td>0</td>\n",
       "      <td>6</td>\n",
       "      <td>83</td>\n",
       "      <td>0</td>\n",
       "      <td>5</td>\n",
       "      <td>North America</td>\n",
       "      <td>2020-04-30 05:18:31.913</td>\n",
       "    </tr>\n",
       "    <tr>\n",
       "      <td>193</td>\n",
       "      <td>Burundi</td>\n",
       "      <td>11</td>\n",
       "      <td>0</td>\n",
       "      <td>1</td>\n",
       "      <td>0</td>\n",
       "      <td>6</td>\n",
       "      <td>284</td>\n",
       "      <td>0</td>\n",
       "      <td>4</td>\n",
       "      <td>Africa</td>\n",
       "      <td>2020-04-30 05:18:31.913</td>\n",
       "    </tr>\n",
       "  </tbody>\n",
       "</table>\n",
       "<p>194 rows × 11 columns</p>\n",
       "</div>"
      ],
      "text/plain": [
       "                   Country  Total_Cases  New_Cases  Total_Deaths  New_Deaths  \\\n",
       "0                    World      3232061      13877        228504         474   \n",
       "1                      USA      1064572        378         61669          13   \n",
       "2                    Spain       236899          0         24275           0   \n",
       "3                    Italy       203591          0         27682           0   \n",
       "4                   France       166420          0         24087           0   \n",
       "..                     ...          ...        ...           ...         ...   \n",
       "189  Saint Kitts and Nevis           15          0             0           0   \n",
       "190              Nicaragua           13          0             3           0   \n",
       "191       Falkland Islands           13          0             0           0   \n",
       "192       Turks and Caicos           12          0             1           0   \n",
       "193                Burundi           11          0             1           0   \n",
       "\n",
       "     Active_Cases  Total_Tests  Serious_Cases  Total_Recovered      Continent  \\\n",
       "0         1995692            0          59772          1007865            All   \n",
       "1          855492      6139911          18671           147411  North America   \n",
       "2           79695      1414477           7764           132929         Europe   \n",
       "3          104657      1910761           1795            71252         Europe   \n",
       "4           94105       463662           4207            48228         Europe   \n",
       "..            ...          ...            ...              ...            ...   \n",
       "189             9          293              0                6  North America   \n",
       "190             3            0              0                7  North America   \n",
       "191             2          372              0               11  South America   \n",
       "192             6           83              0                5  North America   \n",
       "193             6          284              0                4         Africa   \n",
       "\n",
       "                       Date  \n",
       "0   2020-04-30 05:18:31.813  \n",
       "1   2020-04-30 05:18:31.817  \n",
       "2   2020-04-30 05:18:31.820  \n",
       "3   2020-04-30 05:18:31.820  \n",
       "4   2020-04-30 05:18:31.823  \n",
       "..                      ...  \n",
       "189 2020-04-30 05:18:31.910  \n",
       "190 2020-04-30 05:18:31.913  \n",
       "191 2020-04-30 05:18:31.913  \n",
       "192 2020-04-30 05:18:31.913  \n",
       "193 2020-04-30 05:18:31.913  \n",
       "\n",
       "[194 rows x 11 columns]"
      ]
     },
     "execution_count": 16,
     "metadata": {},
     "output_type": "execute_result"
    }
   ],
   "source": [
    "SQL_Query"
   ]
  },
  {
   "cell_type": "code",
   "execution_count": 17,
   "metadata": {},
   "outputs": [],
   "source": [
    "#Define the server name and the database name\n",
    "server = 'Jayshil'\n",
    "database = 'usacovid19'\n",
    "\n",
    "#define our connection string\n",
    "\n",
    "cnxn = pyodbc.connect('DRIVER={ODBC Driver 17 for SQL Server};\\\n",
    "                        SERVER='+server+';\\\n",
    "                        DATABASE='+ database+';\\\n",
    "                        Trusted_Connection=yes;')\n",
    "\n",
    "\n",
    "cursor = cnxn.cursor()"
   ]
  },
  {
   "cell_type": "markdown",
   "metadata": {},
   "source": [
    "### Inserting Continent DATA to the SQL SERVER"
   ]
  },
  {
   "cell_type": "code",
   "execution_count": 18,
   "metadata": {},
   "outputs": [],
   "source": [
    "for index,row in df_continent.iterrows():\n",
    "    cursor.execute(\"\"\"INSERT INTO Continent_Records ([Country],\n",
    "                   [Total_Cases],[New_Cases],[Total_Deaths],[New_Deaths],[Active_Cases],\n",
    "                   [Total_Tests],[Serious_Cases],[Total_Recovered],[Continent], [Date])\n",
    "     VALUES (?,?,?,?,?,?,?,?,?,?,?)\"\"\", \n",
    "                            row['Country'], \n",
    "                            row['Total_Cases'], \n",
    "                            row['New_Cases'],\n",
    "                            row['Total_Deaths'],\n",
    "                            row['New_Deaths'],\n",
    "                            row['Active_Cases'],\n",
    "                            row['Total_Tests'],\n",
    "                            row['Serious_Cases'],\n",
    "                            row['Total_Recovered'],\n",
    "                            row['Continent'],\n",
    "                            datetime.now()) \n",
    "cnxn.commit()\n",
    "cursor.close()\n",
    "cnxn.close()"
   ]
  },
  {
   "cell_type": "code",
   "execution_count": 19,
   "metadata": {},
   "outputs": [],
   "source": [
    "server = 'Jayshil'\n",
    "database = 'usacovid19'\n",
    "\n",
    "#define our connection string\n",
    "\n",
    "cnxn = pyodbc.connect('DRIVER={ODBC Driver 17 for SQL Server};\\\n",
    "                        SERVER='+server+';\\\n",
    "                        DATABASE='+ database+';\\\n",
    "                        Trusted_Connection=yes;')\n",
    "cursor = cnxn.cursor()\n",
    "\n",
    "SQL_Query2 = pd.read_sql_query('''SELECT * FROM [Continent_Records]''', cnxn)\n",
    "\n",
    "cursor.close()"
   ]
  },
  {
   "cell_type": "code",
   "execution_count": 20,
   "metadata": {},
   "outputs": [
    {
     "data": {
      "text/html": [
       "<div>\n",
       "<style scoped>\n",
       "    .dataframe tbody tr th:only-of-type {\n",
       "        vertical-align: middle;\n",
       "    }\n",
       "\n",
       "    .dataframe tbody tr th {\n",
       "        vertical-align: top;\n",
       "    }\n",
       "\n",
       "    .dataframe thead th {\n",
       "        text-align: right;\n",
       "    }\n",
       "</style>\n",
       "<table border=\"1\" class=\"dataframe\">\n",
       "  <thead>\n",
       "    <tr style=\"text-align: right;\">\n",
       "      <th></th>\n",
       "      <th>Country</th>\n",
       "      <th>Total_Cases</th>\n",
       "      <th>New_Cases</th>\n",
       "      <th>Total_Deaths</th>\n",
       "      <th>New_Deaths</th>\n",
       "      <th>Active_Cases</th>\n",
       "      <th>Total_Tests</th>\n",
       "      <th>Serious_Cases</th>\n",
       "      <th>Total_Recovered</th>\n",
       "      <th>Continent</th>\n",
       "      <th>Date</th>\n",
       "    </tr>\n",
       "  </thead>\n",
       "  <tbody>\n",
       "    <tr>\n",
       "      <td>0</td>\n",
       "      <td>North America</td>\n",
       "      <td>1152608</td>\n",
       "      <td>1682</td>\n",
       "      <td>67130</td>\n",
       "      <td>183</td>\n",
       "      <td>902709</td>\n",
       "      <td>0</td>\n",
       "      <td>19940</td>\n",
       "      <td>182769</td>\n",
       "      <td>North America</td>\n",
       "      <td>2020-04-30 05:18:32.037</td>\n",
       "    </tr>\n",
       "    <tr>\n",
       "      <td>1</td>\n",
       "      <td>Europe</td>\n",
       "      <td>1356135</td>\n",
       "      <td>8755</td>\n",
       "      <td>133176</td>\n",
       "      <td>229</td>\n",
       "      <td>732861</td>\n",
       "      <td>0</td>\n",
       "      <td>24139</td>\n",
       "      <td>490098</td>\n",
       "      <td>Europe</td>\n",
       "      <td>2020-04-30 05:18:32.037</td>\n",
       "    </tr>\n",
       "    <tr>\n",
       "      <td>2</td>\n",
       "      <td>Asia</td>\n",
       "      <td>510086</td>\n",
       "      <td>2758</td>\n",
       "      <td>18330</td>\n",
       "      <td>53</td>\n",
       "      <td>234372</td>\n",
       "      <td>0</td>\n",
       "      <td>5778</td>\n",
       "      <td>257384</td>\n",
       "      <td>Asia</td>\n",
       "      <td>2020-04-30 05:18:32.040</td>\n",
       "    </tr>\n",
       "    <tr>\n",
       "      <td>3</td>\n",
       "      <td>South America</td>\n",
       "      <td>166468</td>\n",
       "      <td>654</td>\n",
       "      <td>8150</td>\n",
       "      <td>6</td>\n",
       "      <td>101020</td>\n",
       "      <td>0</td>\n",
       "      <td>9748</td>\n",
       "      <td>57298</td>\n",
       "      <td>South America</td>\n",
       "      <td>2020-04-30 05:18:32.040</td>\n",
       "    </tr>\n",
       "    <tr>\n",
       "      <td>4</td>\n",
       "      <td>Oceania</td>\n",
       "      <td>8330</td>\n",
       "      <td>8</td>\n",
       "      <td>110</td>\n",
       "      <td>2</td>\n",
       "      <td>1185</td>\n",
       "      <td>0</td>\n",
       "      <td>41</td>\n",
       "      <td>7035</td>\n",
       "      <td>Australia/Oceania</td>\n",
       "      <td>2020-04-30 05:18:32.040</td>\n",
       "    </tr>\n",
       "    <tr>\n",
       "      <td>5</td>\n",
       "      <td>Africa</td>\n",
       "      <td>37713</td>\n",
       "      <td>20</td>\n",
       "      <td>1593</td>\n",
       "      <td>1</td>\n",
       "      <td>23484</td>\n",
       "      <td>0</td>\n",
       "      <td>122</td>\n",
       "      <td>12636</td>\n",
       "      <td>Africa</td>\n",
       "      <td>2020-04-30 05:18:32.040</td>\n",
       "    </tr>\n",
       "    <tr>\n",
       "      <td>6</td>\n",
       "      <td></td>\n",
       "      <td>721</td>\n",
       "      <td>0</td>\n",
       "      <td>15</td>\n",
       "      <td>0</td>\n",
       "      <td>61</td>\n",
       "      <td>0</td>\n",
       "      <td>4</td>\n",
       "      <td>645</td>\n",
       "      <td>0</td>\n",
       "      <td>2020-04-30 05:18:32.043</td>\n",
       "    </tr>\n",
       "  </tbody>\n",
       "</table>\n",
       "</div>"
      ],
      "text/plain": [
       "         Country  Total_Cases  New_Cases  Total_Deaths  New_Deaths  \\\n",
       "0  North America      1152608       1682         67130         183   \n",
       "1         Europe      1356135       8755        133176         229   \n",
       "2           Asia       510086       2758         18330          53   \n",
       "3  South America       166468        654          8150           6   \n",
       "4        Oceania         8330          8           110           2   \n",
       "5         Africa        37713         20          1593           1   \n",
       "6                         721          0            15           0   \n",
       "\n",
       "   Active_Cases  Total_Tests  Serious_Cases  Total_Recovered  \\\n",
       "0        902709            0          19940           182769   \n",
       "1        732861            0          24139           490098   \n",
       "2        234372            0           5778           257384   \n",
       "3        101020            0           9748            57298   \n",
       "4          1185            0             41             7035   \n",
       "5         23484            0            122            12636   \n",
       "6            61            0              4              645   \n",
       "\n",
       "           Continent                    Date  \n",
       "0      North America 2020-04-30 05:18:32.037  \n",
       "1             Europe 2020-04-30 05:18:32.037  \n",
       "2               Asia 2020-04-30 05:18:32.040  \n",
       "3      South America 2020-04-30 05:18:32.040  \n",
       "4  Australia/Oceania 2020-04-30 05:18:32.040  \n",
       "5             Africa 2020-04-30 05:18:32.040  \n",
       "6                  0 2020-04-30 05:18:32.043  "
      ]
     },
     "execution_count": 20,
     "metadata": {},
     "output_type": "execute_result"
    }
   ],
   "source": [
    "SQL_Query2"
   ]
  },
  {
   "cell_type": "markdown",
   "metadata": {},
   "source": [
    "### Continent based Graphs"
   ]
  },
  {
   "cell_type": "code",
   "execution_count": 71,
   "metadata": {},
   "outputs": [
    {
     "data": {
      "image/png": "[encoded data removed]",
      "text/plain": [
       "<Figure size 432x288 with 1 Axes>"
      ]
     },
     "metadata": {
      "needs_background": "light"
     },
     "output_type": "display_data"
    }
   ],
   "source": [
    "Total_Cases = df_continent['Total_Cases'].values.tolist()\n",
    "Total_Deaths = df_continent['Total_Deaths'].values.tolist()\n",
    "Active_Cases = df_continent['Active_Cases'].values.tolist()\n",
    "Total_Tests = df_continent['Total_Tests'].values.tolist()\n",
    "\n",
    "State = df_continent['Country'].values.tolist()\n",
    "index = State\n",
    "dfplot1 = pd.DataFrame({'Total_Cases': Total_Cases,\n",
    "                      'Total_Deaths': Total_Deaths}, \n",
    "                       index = index,\n",
    "                      )\n",
    "\n",
    "ax = dfplot1.plot.barh(rot=0)"
   ]
  },
  {
   "cell_type": "code",
   "execution_count": 43,
   "metadata": {},
   "outputs": [
    {
     "data": {
      "text/html": [
       "<div>\n",
       "<style scoped>\n",
       "    .dataframe tbody tr th:only-of-type {\n",
       "        vertical-align: middle;\n",
       "    }\n",
       "\n",
       "    .dataframe tbody tr th {\n",
       "        vertical-align: top;\n",
       "    }\n",
       "\n",
       "    .dataframe thead th {\n",
       "        text-align: right;\n",
       "    }\n",
       "</style>\n",
       "<table border=\"1\" class=\"dataframe\">\n",
       "  <thead>\n",
       "    <tr style=\"text-align: right;\">\n",
       "      <th></th>\n",
       "      <th>Country</th>\n",
       "      <th>Total_Cases</th>\n",
       "      <th>New_Cases</th>\n",
       "      <th>Total_Deaths</th>\n",
       "      <th>New_Deaths</th>\n",
       "      <th>Total_Recovered</th>\n",
       "      <th>Active_Cases</th>\n",
       "      <th>Serious_Cases</th>\n",
       "      <th>Total_Cases/1M_pop</th>\n",
       "      <th>Deaths/1M_pop</th>\n",
       "      <th>Total_Tests</th>\n",
       "      <th>Tests/1M_pop</th>\n",
       "      <th>Continent</th>\n",
       "    </tr>\n",
       "  </thead>\n",
       "  <tbody>\n",
       "    <tr>\n",
       "      <td>8</td>\n",
       "      <td>World</td>\n",
       "      <td>3232061</td>\n",
       "      <td>13877</td>\n",
       "      <td>228504</td>\n",
       "      <td>474</td>\n",
       "      <td>1007865</td>\n",
       "      <td>1995692</td>\n",
       "      <td>59772</td>\n",
       "      <td>415</td>\n",
       "      <td>29.3</td>\n",
       "      <td>0</td>\n",
       "      <td>0</td>\n",
       "      <td>All</td>\n",
       "    </tr>\n",
       "    <tr>\n",
       "      <td>9</td>\n",
       "      <td>USA</td>\n",
       "      <td>1064572</td>\n",
       "      <td>378</td>\n",
       "      <td>61669</td>\n",
       "      <td>13</td>\n",
       "      <td>147411</td>\n",
       "      <td>855492</td>\n",
       "      <td>18671</td>\n",
       "      <td>3216</td>\n",
       "      <td>186</td>\n",
       "      <td>6139911</td>\n",
       "      <td>18549</td>\n",
       "      <td>North America</td>\n",
       "    </tr>\n",
       "    <tr>\n",
       "      <td>10</td>\n",
       "      <td>Spain</td>\n",
       "      <td>236899</td>\n",
       "      <td>0</td>\n",
       "      <td>24275</td>\n",
       "      <td>0</td>\n",
       "      <td>132929</td>\n",
       "      <td>79695</td>\n",
       "      <td>7764</td>\n",
       "      <td>5067</td>\n",
       "      <td>519</td>\n",
       "      <td>1414477</td>\n",
       "      <td>30253</td>\n",
       "      <td>Europe</td>\n",
       "    </tr>\n",
       "    <tr>\n",
       "      <td>11</td>\n",
       "      <td>Italy</td>\n",
       "      <td>203591</td>\n",
       "      <td>0</td>\n",
       "      <td>27682</td>\n",
       "      <td>0</td>\n",
       "      <td>71252</td>\n",
       "      <td>104657</td>\n",
       "      <td>1795</td>\n",
       "      <td>3367</td>\n",
       "      <td>458</td>\n",
       "      <td>1910761</td>\n",
       "      <td>31603</td>\n",
       "      <td>Europe</td>\n",
       "    </tr>\n",
       "    <tr>\n",
       "      <td>12</td>\n",
       "      <td>France</td>\n",
       "      <td>166420</td>\n",
       "      <td>0</td>\n",
       "      <td>24087</td>\n",
       "      <td>0</td>\n",
       "      <td>48228</td>\n",
       "      <td>94105</td>\n",
       "      <td>4207</td>\n",
       "      <td>2550</td>\n",
       "      <td>369</td>\n",
       "      <td>463662</td>\n",
       "      <td>7103</td>\n",
       "      <td>Europe</td>\n",
       "    </tr>\n",
       "  </tbody>\n",
       "</table>\n",
       "</div>"
      ],
      "text/plain": [
       "   Country  Total_Cases  New_Cases  Total_Deaths  New_Deaths  Total_Recovered  \\\n",
       "8    World      3232061      13877        228504         474          1007865   \n",
       "9      USA      1064572        378         61669          13           147411   \n",
       "10   Spain       236899          0         24275           0           132929   \n",
       "11   Italy       203591          0         27682           0            71252   \n",
       "12  France       166420          0         24087           0            48228   \n",
       "\n",
       "    Active_Cases  Serious_Cases Total_Cases/1M_pop Deaths/1M_pop  Total_Tests  \\\n",
       "8        1995692          59772                415          29.3            0   \n",
       "9         855492          18671               3216           186      6139911   \n",
       "10         79695           7764               5067           519      1414477   \n",
       "11        104657           1795               3367           458      1910761   \n",
       "12         94105           4207               2550           369       463662   \n",
       "\n",
       "   Tests/1M_pop      Continent  \n",
       "8             0            All  \n",
       "9         18549  North America  \n",
       "10        30253         Europe  \n",
       "11        31603         Europe  \n",
       "12         7103         Europe  "
      ]
     },
     "execution_count": 43,
     "metadata": {},
     "output_type": "execute_result"
    }
   ],
   "source": [
    "df_country.head()"
   ]
  },
  {
   "cell_type": "code",
   "execution_count": 42,
   "metadata": {},
   "outputs": [],
   "source": [
    "import plotly.express as px\n",
    "fig = px.scatter_geo(df_country, lat=\"lat\", lon=\"long\", color=\"country\",\n",
    " hover_name=\"Country\", size=\"Total_Recovered\",\n",
    " projection=\"orthographic\",width=700)\n",
    "fig.show()"
   ]
  },
  {
   "cell_type": "code",
   "execution_count": 58,
   "metadata": {},
   "outputs": [],
   "source": [
    "Total_Cases = int(df_country['Total_Cases'][:1])\n",
    "Total_Deaths = int(df_country['Total_Deaths'][:1])\n",
    "Total_Recovered = int(df_country['Total_Recovered'][:1])"
   ]
  },
  {
   "cell_type": "code",
   "execution_count": 65,
   "metadata": {},
   "outputs": [],
   "source": [
    "# importing libraries\n",
    "from __future__ import print_function\n",
    "from ipywidgets import interact, interactive, fixed, interact_manual\n",
    "from IPython.core.display import display, HTML\n",
    "\n",
    "import numpy as np\n",
    "import pandas as pd\n",
    "import matplotlib.pyplot as plt\n",
    "import plotly.express as px\n",
    "import folium\n",
    "import plotly.graph_objects as go\n",
    "import seaborn as sns\n",
    "import ipywidgets as widgets"
   ]
  },
  {
   "cell_type": "code",
   "execution_count": null,
   "metadata": {},
   "outputs": [],
   "source": []
  },
  {
   "cell_type": "code",
   "execution_count": 59,
   "metadata": {},
   "outputs": [
    {
     "data": {
      "text/html": [
       "<div style = 'background-color: #504e4e; padding: 30px '><span style='color: #fff; font-size:30px;'> Confirmed: 3232061</span><span style='color: red; font-size:30px;margin-left:20px;'> Deaths: 228504</span><span style='color: lightgreen; font-size:30px; margin-left:20px;'> Recovered: 1007865</span></div>"
      ],
      "text/plain": [
       "<IPython.core.display.HTML object>"
      ]
     },
     "metadata": {},
     "output_type": "display_data"
    }
   ],
   "source": [
    "from IPython.core.display import display, HTML\n",
    "\n",
    "display(HTML(\"<div style = 'background-color: #504e4e; padding: 30px '>\" +\n",
    "             \"<span style='color: #fff; font-size:30px;'> Confirmed: \"  + str(Total_Cases) +\"</span>\" +\n",
    "             \"<span style='color: red; font-size:30px;margin-left:20px;'> Deaths: \" + str(Total_Deaths) + \"</span>\"+\n",
    "             \"<span style='color: lightgreen; font-size:30px; margin-left:20px;'> Recovered: \" + str(Total_Recovered) + \"</span>\"+\n",
    "             \"</div>\")\n",
    "       )"
   ]
  },
  {
   "cell_type": "code",
   "execution_count": 63,
   "metadata": {},
   "outputs": [
    {
     "data": {
      "application/vnd.plotly.v1+json": {
       "config": {
        "plotlyServerURL": "https://plot.ly"
       },
       "data": [
        {
         "hovertemplate": "<b>%{hovertext}</b><br><br>Country=%{x}<br>Total_Cases=%{marker.size}<extra></extra>",
         "hovertext": [
          "World"
         ],
         "legendgroup": "World",
         "marker": {
          "color": "#636efa",
          "size": [
           3232061
          ],
          "sizemode": "area",
          "sizeref": 897.7947222222223,
          "symbol": "circle"
         },
         "mode": "markers",
         "name": "World",
         "showlegend": true,
         "type": "scatter",
         "x": [
          "World"
         ],
         "xaxis": "x",
         "y": [
          3232061
         ],
         "yaxis": "y"
        },
        {
         "hovertemplate": "<b>%{hovertext}</b><br><br>Country=%{x}<br>Total_Cases=%{marker.size}<extra></extra>",
         "hovertext": [
          "USA"
         ],
         "legendgroup": "USA",
         "marker": {
          "color": "#EF553B",
          "size": [
           1064572
          ],
          "sizemode": "area",
          "sizeref": 897.7947222222223,
          "symbol": "circle"
         },
         "mode": "markers",
         "name": "USA",
         "showlegend": true,
         "type": "scatter",
         "x": [
          "USA"
         ],
         "xaxis": "x",
         "y": [
          1064572
         ],
         "yaxis": "y"
        },
        {
         "hovertemplate": "<b>%{hovertext}</b><br><br>Country=%{x}<br>Total_Cases=%{marker.size}<extra></extra>",
         "hovertext": [
          "Spain"
         ],
         "legendgroup": "Spain",
         "marker": {
          "color": "#00cc96",
          "size": [
           236899
          ],
          "sizemode": "area",
          "sizeref": 897.7947222222223,
          "symbol": "circle"
         },
         "mode": "markers",
         "name": "Spain",
         "showlegend": true,
         "type": "scatter",
         "x": [
          "Spain"
         ],
         "xaxis": "x",
         "y": [
          236899
         ],
         "yaxis": "y"
        },
        {
         "hovertemplate": "<b>%{hovertext}</b><br><br>Country=%{x}<br>Total_Cases=%{marker.size}<extra></extra>",
         "hovertext": [
          "Italy"
         ],
         "legendgroup": "Italy",
         "marker": {
          "color": "#ab63fa",
          "size": [
           203591
          ],
          "sizemode": "area",
          "sizeref": 897.7947222222223,
          "symbol": "circle"
         },
         "mode": "markers",
         "name": "Italy",
         "showlegend": true,
         "type": "scatter",
         "x": [
          "Italy"
         ],
         "xaxis": "x",
         "y": [
          203591
         ],
         "yaxis": "y"
        },
        {
         "hovertemplate": "<b>%{hovertext}</b><br><br>Country=%{x}<br>Total_Cases=%{marker.size}<extra></extra>",
         "hovertext": [
          "France"
         ],
         "legendgroup": "France",
         "marker": {
          "color": "#FFA15A",
          "size": [
           166420
          ],
          "sizemode": "area",
          "sizeref": 897.7947222222223,
          "symbol": "circle"
         },
         "mode": "markers",
         "name": "France",
         "showlegend": true,
         "type": "scatter",
         "x": [
          "France"
         ],
         "xaxis": "x",
         "y": [
          166420
         ],
         "yaxis": "y"
        },
        {
         "hovertemplate": "<b>%{hovertext}</b><br><br>Country=%{x}<br>Total_Cases=%{marker.size}<extra></extra>",
         "hovertext": [
          "UK"
         ],
         "legendgroup": "UK",
         "marker": {
          "color": "#19d3f3",
          "size": [
           165221
          ],
          "sizemode": "area",
          "sizeref": 897.7947222222223,
          "symbol": "circle"
         },
         "mode": "markers",
         "name": "UK",
         "showlegend": true,
         "type": "scatter",
         "x": [
          "UK"
         ],
         "xaxis": "x",
         "y": [
          165221
         ],
         "yaxis": "y"
        },
        {
         "hovertemplate": "<b>%{hovertext}</b><br><br>Country=%{x}<br>Total_Cases=%{marker.size}<extra></extra>",
         "hovertext": [
          "Germany"
         ],
         "legendgroup": "Germany",
         "marker": {
          "color": "#FF6692",
          "size": [
           161539
          ],
          "sizemode": "area",
          "sizeref": 897.7947222222223,
          "symbol": "circle"
         },
         "mode": "markers",
         "name": "Germany",
         "showlegend": true,
         "type": "scatter",
         "x": [
          "Germany"
         ],
         "xaxis": "x",
         "y": [
          161539
         ],
         "yaxis": "y"
        },
        {
         "hovertemplate": "<b>%{hovertext}</b><br><br>Country=%{x}<br>Total_Cases=%{marker.size}<extra></extra>",
         "hovertext": [
          "Turkey"
         ],
         "legendgroup": "Turkey",
         "marker": {
          "color": "#B6E880",
          "size": [
           117589
          ],
          "sizemode": "area",
          "sizeref": 897.7947222222223,
          "symbol": "circle"
         },
         "mode": "markers",
         "name": "Turkey",
         "showlegend": true,
         "type": "scatter",
         "x": [
          "Turkey"
         ],
         "xaxis": "x",
         "y": [
          117589
         ],
         "yaxis": "y"
        },
        {
         "hovertemplate": "<b>%{hovertext}</b><br><br>Country=%{x}<br>Total_Cases=%{marker.size}<extra></extra>",
         "hovertext": [
          "Russia"
         ],
         "legendgroup": "Russia",
         "marker": {
          "color": "#FF97FF",
          "size": [
           106498
          ],
          "sizemode": "area",
          "sizeref": 897.7947222222223,
          "symbol": "circle"
         },
         "mode": "markers",
         "name": "Russia",
         "showlegend": true,
         "type": "scatter",
         "x": [
          "Russia"
         ],
         "xaxis": "x",
         "y": [
          106498
         ],
         "yaxis": "y"
        },
        {
         "hovertemplate": "<b>%{hovertext}</b><br><br>Country=%{x}<br>Total_Cases=%{marker.size}<extra></extra>",
         "hovertext": [
          "Iran"
         ],
         "legendgroup": "Iran",
         "marker": {
          "color": "#FECB52",
          "size": [
           93657
          ],
          "sizemode": "area",
          "sizeref": 897.7947222222223,
          "symbol": "circle"
         },
         "mode": "markers",
         "name": "Iran",
         "showlegend": true,
         "type": "scatter",
         "x": [
          "Iran"
         ],
         "xaxis": "x",
         "y": [
          93657
         ],
         "yaxis": "y"
        }
       ],
       "layout": {
        "legend": {
         "itemsizing": "constant",
         "title": {
          "text": "Country"
         },
         "tracegroupgap": 0
        },
        "margin": {
         "t": 60
        },
        "template": {
         "data": {
          "bar": [
           {
            "error_x": {
             "color": "#2a3f5f"
            },
            "error_y": {
             "color": "#2a3f5f"
            },
            "marker": {
             "line": {
              "color": "#E5ECF6",
              "width": 0.5
             }
            },
            "type": "bar"
           }
          ],
          "barpolar": [
           {
            "marker": {
             "line": {
              "color": "#E5ECF6",
              "width": 0.5
             }
            },
            "type": "barpolar"
           }
          ],
          "carpet": [
           {
            "aaxis": {
             "endlinecolor": "#2a3f5f",
             "gridcolor": "white",
             "linecolor": "white",
             "minorgridcolor": "white",
             "startlinecolor": "#2a3f5f"
            },
            "baxis": {
             "endlinecolor": "#2a3f5f",
             "gridcolor": "white",
             "linecolor": "white",
             "minorgridcolor": "white",
             "startlinecolor": "#2a3f5f"
            },
            "type": "carpet"
           }
          ],
          "choropleth": [
           {
            "colorbar": {
             "outlinewidth": 0,
             "ticks": ""
            },
            "type": "choropleth"
           }
          ],
          "contour": [
           {
            "colorbar": {
             "outlinewidth": 0,
             "ticks": ""
            },
            "colorscale": [
             [
              0,
              "#0d0887"
             ],
             [
              0.1111111111111111,
              "#46039f"
             ],
             [
              0.2222222222222222,
              "#7201a8"
             ],
             [
              0.3333333333333333,
              "#9c179e"
             ],
             [
              0.4444444444444444,
              "#bd3786"
             ],
             [
              0.5555555555555556,
              "#d8576b"
             ],
             [
              0.6666666666666666,
              "#ed7953"
             ],
             [
              0.7777777777777778,
              "#fb9f3a"
             ],
             [
              0.8888888888888888,
              "#fdca26"
             ],
             [
              1,
              "#f0f921"
             ]
            ],
            "type": "contour"
           }
          ],
          "contourcarpet": [
           {
            "colorbar": {
             "outlinewidth": 0,
             "ticks": ""
            },
            "type": "contourcarpet"
           }
          ],
          "heatmap": [
           {
            "colorbar": {
             "outlinewidth": 0,
             "ticks": ""
            },
            "colorscale": [
             [
              0,
              "#0d0887"
             ],
             [
              0.1111111111111111,
              "#46039f"
             ],
             [
              0.2222222222222222,
              "#7201a8"
             ],
             [
              0.3333333333333333,
              "#9c179e"
             ],
             [
              0.4444444444444444,
              "#bd3786"
             ],
             [
              0.5555555555555556,
              "#d8576b"
             ],
             [
              0.6666666666666666,
              "#ed7953"
             ],
             [
              0.7777777777777778,
              "#fb9f3a"
             ],
             [
              0.8888888888888888,
              "#fdca26"
             ],
             [
              1,
              "#f0f921"
             ]
            ],
            "type": "heatmap"
           }
          ],
          "heatmapgl": [
           {
            "colorbar": {
             "outlinewidth": 0,
             "ticks": ""
            },
            "colorscale": [
             [
              0,
              "#0d0887"
             ],
             [
              0.1111111111111111,
              "#46039f"
             ],
             [
              0.2222222222222222,
              "#7201a8"
             ],
             [
              0.3333333333333333,
              "#9c179e"
             ],
             [
              0.4444444444444444,
              "#bd3786"
             ],
             [
              0.5555555555555556,
              "#d8576b"
             ],
             [
              0.6666666666666666,
              "#ed7953"
             ],
             [
              0.7777777777777778,
              "#fb9f3a"
             ],
             [
              0.8888888888888888,
              "#fdca26"
             ],
             [
              1,
              "#f0f921"
             ]
            ],
            "type": "heatmapgl"
           }
          ],
          "histogram": [
           {
            "marker": {
             "colorbar": {
              "outlinewidth": 0,
              "ticks": ""
             }
            },
            "type": "histogram"
           }
          ],
          "histogram2d": [
           {
            "colorbar": {
             "outlinewidth": 0,
             "ticks": ""
            },
            "colorscale": [
             [
              0,
              "#0d0887"
             ],
             [
              0.1111111111111111,
              "#46039f"
             ],
             [
              0.2222222222222222,
              "#7201a8"
             ],
             [
              0.3333333333333333,
              "#9c179e"
             ],
             [
              0.4444444444444444,
              "#bd3786"
             ],
             [
              0.5555555555555556,
              "#d8576b"
             ],
             [
              0.6666666666666666,
              "#ed7953"
             ],
             [
              0.7777777777777778,
              "#fb9f3a"
             ],
             [
              0.8888888888888888,
              "#fdca26"
             ],
             [
              1,
              "#f0f921"
             ]
            ],
            "type": "histogram2d"
           }
          ],
          "histogram2dcontour": [
           {
            "colorbar": {
             "outlinewidth": 0,
             "ticks": ""
            },
            "colorscale": [
             [
              0,
              "#0d0887"
             ],
             [
              0.1111111111111111,
              "#46039f"
             ],
             [
              0.2222222222222222,
              "#7201a8"
             ],
             [
              0.3333333333333333,
              "#9c179e"
             ],
             [
              0.4444444444444444,
              "#bd3786"
             ],
             [
              0.5555555555555556,
              "#d8576b"
             ],
             [
              0.6666666666666666,
              "#ed7953"
             ],
             [
              0.7777777777777778,
              "#fb9f3a"
             ],
             [
              0.8888888888888888,
              "#fdca26"
             ],
             [
              1,
              "#f0f921"
             ]
            ],
            "type": "histogram2dcontour"
           }
          ],
          "mesh3d": [
           {
            "colorbar": {
             "outlinewidth": 0,
             "ticks": ""
            },
            "type": "mesh3d"
           }
          ],
          "parcoords": [
           {
            "line": {
             "colorbar": {
              "outlinewidth": 0,
              "ticks": ""
             }
            },
            "type": "parcoords"
           }
          ],
          "pie": [
           {
            "automargin": true,
            "type": "pie"
           }
          ],
          "scatter": [
           {
            "marker": {
             "colorbar": {
              "outlinewidth": 0,
              "ticks": ""
             }
            },
            "type": "scatter"
           }
          ],
          "scatter3d": [
           {
            "line": {
             "colorbar": {
              "outlinewidth": 0,
              "ticks": ""
             }
            },
            "marker": {
             "colorbar": {
              "outlinewidth": 0,
              "ticks": ""
             }
            },
            "type": "scatter3d"
           }
          ],
          "scattercarpet": [
           {
            "marker": {
             "colorbar": {
              "outlinewidth": 0,
              "ticks": ""
             }
            },
            "type": "scattercarpet"
           }
          ],
          "scattergeo": [
           {
            "marker": {
             "colorbar": {
              "outlinewidth": 0,
              "ticks": ""
             }
            },
            "type": "scattergeo"
           }
          ],
          "scattergl": [
           {
            "marker": {
             "colorbar": {
              "outlinewidth": 0,
              "ticks": ""
             }
            },
            "type": "scattergl"
           }
          ],
          "scattermapbox": [
           {
            "marker": {
             "colorbar": {
              "outlinewidth": 0,
              "ticks": ""
             }
            },
            "type": "scattermapbox"
           }
          ],
          "scatterpolar": [
           {
            "marker": {
             "colorbar": {
              "outlinewidth": 0,
              "ticks": ""
             }
            },
            "type": "scatterpolar"
           }
          ],
          "scatterpolargl": [
           {
            "marker": {
             "colorbar": {
              "outlinewidth": 0,
              "ticks": ""
             }
            },
            "type": "scatterpolargl"
           }
          ],
          "scatterternary": [
           {
            "marker": {
             "colorbar": {
              "outlinewidth": 0,
              "ticks": ""
             }
            },
            "type": "scatterternary"
           }
          ],
          "surface": [
           {
            "colorbar": {
             "outlinewidth": 0,
             "ticks": ""
            },
            "colorscale": [
             [
              0,
              "#0d0887"
             ],
             [
              0.1111111111111111,
              "#46039f"
             ],
             [
              0.2222222222222222,
              "#7201a8"
             ],
             [
              0.3333333333333333,
              "#9c179e"
             ],
             [
              0.4444444444444444,
              "#bd3786"
             ],
             [
              0.5555555555555556,
              "#d8576b"
             ],
             [
              0.6666666666666666,
              "#ed7953"
             ],
             [
              0.7777777777777778,
              "#fb9f3a"
             ],
             [
              0.8888888888888888,
              "#fdca26"
             ],
             [
              1,
              "#f0f921"
             ]
            ],
            "type": "surface"
           }
          ],
          "table": [
           {
            "cells": {
             "fill": {
              "color": "#EBF0F8"
             },
             "line": {
              "color": "white"
             }
            },
            "header": {
             "fill": {
              "color": "#C8D4E3"
             },
             "line": {
              "color": "white"
             }
            },
            "type": "table"
           }
          ]
         },
         "layout": {
          "annotationdefaults": {
           "arrowcolor": "#2a3f5f",
           "arrowhead": 0,
           "arrowwidth": 1
          },
          "coloraxis": {
           "colorbar": {
            "outlinewidth": 0,
            "ticks": ""
           }
          },
          "colorscale": {
           "diverging": [
            [
             0,
             "#8e0152"
            ],
            [
             0.1,
             "#c51b7d"
            ],
            [
             0.2,
             "#de77ae"
            ],
            [
             0.3,
             "#f1b6da"
            ],
            [
             0.4,
             "#fde0ef"
            ],
            [
             0.5,
             "#f7f7f7"
            ],
            [
             0.6,
             "#e6f5d0"
            ],
            [
             0.7,
             "#b8e186"
            ],
            [
             0.8,
             "#7fbc41"
            ],
            [
             0.9,
             "#4d9221"
            ],
            [
             1,
             "#276419"
            ]
           ],
           "sequential": [
            [
             0,
             "#0d0887"
            ],
            [
             0.1111111111111111,
             "#46039f"
            ],
            [
             0.2222222222222222,
             "#7201a8"
            ],
            [
             0.3333333333333333,
             "#9c179e"
            ],
            [
             0.4444444444444444,
             "#bd3786"
            ],
            [
             0.5555555555555556,
             "#d8576b"
            ],
            [
             0.6666666666666666,
             "#ed7953"
            ],
            [
             0.7777777777777778,
             "#fb9f3a"
            ],
            [
             0.8888888888888888,
             "#fdca26"
            ],
            [
             1,
             "#f0f921"
            ]
           ],
           "sequentialminus": [
            [
             0,
             "#0d0887"
            ],
            [
             0.1111111111111111,
             "#46039f"
            ],
            [
             0.2222222222222222,
             "#7201a8"
            ],
            [
             0.3333333333333333,
             "#9c179e"
            ],
            [
             0.4444444444444444,
             "#bd3786"
            ],
            [
             0.5555555555555556,
             "#d8576b"
            ],
            [
             0.6666666666666666,
             "#ed7953"
            ],
            [
             0.7777777777777778,
             "#fb9f3a"
            ],
            [
             0.8888888888888888,
             "#fdca26"
            ],
            [
             1,
             "#f0f921"
            ]
           ]
          },
          "colorway": [
           "#636efa",
           "#EF553B",
           "#00cc96",
           "#ab63fa",
           "#FFA15A",
           "#19d3f3",
           "#FF6692",
           "#B6E880",
           "#FF97FF",
           "#FECB52"
          ],
          "font": {
           "color": "#2a3f5f"
          },
          "geo": {
           "bgcolor": "white",
           "lakecolor": "white",
           "landcolor": "#E5ECF6",
           "showlakes": true,
           "showland": true,
           "subunitcolor": "white"
          },
          "hoverlabel": {
           "align": "left"
          },
          "hovermode": "closest",
          "mapbox": {
           "style": "light"
          },
          "paper_bgcolor": "white",
          "plot_bgcolor": "#E5ECF6",
          "polar": {
           "angularaxis": {
            "gridcolor": "white",
            "linecolor": "white",
            "ticks": ""
           },
           "bgcolor": "#E5ECF6",
           "radialaxis": {
            "gridcolor": "white",
            "linecolor": "white",
            "ticks": ""
           }
          },
          "scene": {
           "xaxis": {
            "backgroundcolor": "#E5ECF6",
            "gridcolor": "white",
            "gridwidth": 2,
            "linecolor": "white",
            "showbackground": true,
            "ticks": "",
            "zerolinecolor": "white"
           },
           "yaxis": {
            "backgroundcolor": "#E5ECF6",
            "gridcolor": "white",
            "gridwidth": 2,
            "linecolor": "white",
            "showbackground": true,
            "ticks": "",
            "zerolinecolor": "white"
           },
           "zaxis": {
            "backgroundcolor": "#E5ECF6",
            "gridcolor": "white",
            "gridwidth": 2,
            "linecolor": "white",
            "showbackground": true,
            "ticks": "",
            "zerolinecolor": "white"
           }
          },
          "shapedefaults": {
           "line": {
            "color": "#2a3f5f"
           }
          },
          "ternary": {
           "aaxis": {
            "gridcolor": "white",
            "linecolor": "white",
            "ticks": ""
           },
           "baxis": {
            "gridcolor": "white",
            "linecolor": "white",
            "ticks": ""
           },
           "bgcolor": "#E5ECF6",
           "caxis": {
            "gridcolor": "white",
            "linecolor": "white",
            "ticks": ""
           }
          },
          "title": {
           "x": 0.05
          },
          "xaxis": {
           "automargin": true,
           "gridcolor": "white",
           "linecolor": "white",
           "ticks": "",
           "title": {
            "standoff": 15
           },
           "zerolinecolor": "white",
           "zerolinewidth": 2
          },
          "yaxis": {
           "automargin": true,
           "gridcolor": "white",
           "linecolor": "white",
           "ticks": "",
           "title": {
            "standoff": 15
           },
           "zerolinecolor": "white",
           "zerolinewidth": 2
          }
         }
        },
        "title": {
         "text": " Worst hit countries"
        },
        "width": 700,
        "xaxis": {
         "anchor": "y",
         "categoryarray": [
          "World",
          "USA",
          "Spain",
          "Italy",
          "France",
          "UK",
          "Germany",
          "Turkey",
          "Russia",
          "Iran"
         ],
         "categoryorder": "array",
         "domain": [
          0,
          1
         ],
         "title": {
          "text": "Countries"
         }
        },
        "yaxis": {
         "anchor": "x",
         "domain": [
          0,
          1
         ],
         "title": {
          "text": "Confirmed Cases"
         }
        }
       }
      },
      "text/html": [
       "<div>\n",
       "        \n",
       "        \n",
       "            <div id=\"b5fb69cc-aa67-4399-84cf-95bfebfc516c\" class=\"plotly-graph-div\" style=\"height:525px; width:700px;\"></div>\n",
       "            <script type=\"text/javascript\">\n",
       "                require([\"plotly\"], function(Plotly) {\n",
       "                    window.PLOTLYENV=window.PLOTLYENV || {};\n",
       "                    \n",
       "                if (document.getElementById(\"b5fb69cc-aa67-4399-84cf-95bfebfc516c\")) {\n",
       "                    Plotly.newPlot(\n",
       "                        'b5fb69cc-aa67-4399-84cf-95bfebfc516c',\n",
       "                        [{\"hovertemplate\": \"<b>%{hovertext}</b><br><br>Country=%{x}<br>Total_Cases=%{marker.size}<extra></extra>\", \"hovertext\": [\"World\"], \"legendgroup\": \"World\", \"marker\": {\"color\": \"#636efa\", \"size\": [3232061], \"sizemode\": \"area\", \"sizeref\": 897.7947222222223, \"symbol\": \"circle\"}, \"mode\": \"markers\", \"name\": \"World\", \"showlegend\": true, \"type\": \"scatter\", \"x\": [\"World\"], \"xaxis\": \"x\", \"y\": [3232061], \"yaxis\": \"y\"}, {\"hovertemplate\": \"<b>%{hovertext}</b><br><br>Country=%{x}<br>Total_Cases=%{marker.size}<extra></extra>\", \"hovertext\": [\"USA\"], \"legendgroup\": \"USA\", \"marker\": {\"color\": \"#EF553B\", \"size\": [1064572], \"sizemode\": \"area\", \"sizeref\": 897.7947222222223, \"symbol\": \"circle\"}, \"mode\": \"markers\", \"name\": \"USA\", \"showlegend\": true, \"type\": \"scatter\", \"x\": [\"USA\"], \"xaxis\": \"x\", \"y\": [1064572], \"yaxis\": \"y\"}, {\"hovertemplate\": \"<b>%{hovertext}</b><br><br>Country=%{x}<br>Total_Cases=%{marker.size}<extra></extra>\", \"hovertext\": [\"Spain\"], \"legendgroup\": \"Spain\", \"marker\": {\"color\": \"#00cc96\", \"size\": [236899], \"sizemode\": \"area\", \"sizeref\": 897.7947222222223, \"symbol\": \"circle\"}, \"mode\": \"markers\", \"name\": \"Spain\", \"showlegend\": true, \"type\": \"scatter\", \"x\": [\"Spain\"], \"xaxis\": \"x\", \"y\": [236899], \"yaxis\": \"y\"}, {\"hovertemplate\": \"<b>%{hovertext}</b><br><br>Country=%{x}<br>Total_Cases=%{marker.size}<extra></extra>\", \"hovertext\": [\"Italy\"], \"legendgroup\": \"Italy\", \"marker\": {\"color\": \"#ab63fa\", \"size\": [203591], \"sizemode\": \"area\", \"sizeref\": 897.7947222222223, \"symbol\": \"circle\"}, \"mode\": \"markers\", \"name\": \"Italy\", \"showlegend\": true, \"type\": \"scatter\", \"x\": [\"Italy\"], \"xaxis\": \"x\", \"y\": [203591], \"yaxis\": \"y\"}, {\"hovertemplate\": \"<b>%{hovertext}</b><br><br>Country=%{x}<br>Total_Cases=%{marker.size}<extra></extra>\", \"hovertext\": [\"France\"], \"legendgroup\": \"France\", \"marker\": {\"color\": \"#FFA15A\", \"size\": [166420], \"sizemode\": \"area\", \"sizeref\": 897.7947222222223, \"symbol\": \"circle\"}, \"mode\": \"markers\", \"name\": \"France\", \"showlegend\": true, \"type\": \"scatter\", \"x\": [\"France\"], \"xaxis\": \"x\", \"y\": [166420], \"yaxis\": \"y\"}, {\"hovertemplate\": \"<b>%{hovertext}</b><br><br>Country=%{x}<br>Total_Cases=%{marker.size}<extra></extra>\", \"hovertext\": [\"UK\"], \"legendgroup\": \"UK\", \"marker\": {\"color\": \"#19d3f3\", \"size\": [165221], \"sizemode\": \"area\", \"sizeref\": 897.7947222222223, \"symbol\": \"circle\"}, \"mode\": \"markers\", \"name\": \"UK\", \"showlegend\": true, \"type\": \"scatter\", \"x\": [\"UK\"], \"xaxis\": \"x\", \"y\": [165221], \"yaxis\": \"y\"}, {\"hovertemplate\": \"<b>%{hovertext}</b><br><br>Country=%{x}<br>Total_Cases=%{marker.size}<extra></extra>\", \"hovertext\": [\"Germany\"], \"legendgroup\": \"Germany\", \"marker\": {\"color\": \"#FF6692\", \"size\": [161539], \"sizemode\": \"area\", \"sizeref\": 897.7947222222223, \"symbol\": \"circle\"}, \"mode\": \"markers\", \"name\": \"Germany\", \"showlegend\": true, \"type\": \"scatter\", \"x\": [\"Germany\"], \"xaxis\": \"x\", \"y\": [161539], \"yaxis\": \"y\"}, {\"hovertemplate\": \"<b>%{hovertext}</b><br><br>Country=%{x}<br>Total_Cases=%{marker.size}<extra></extra>\", \"hovertext\": [\"Turkey\"], \"legendgroup\": \"Turkey\", \"marker\": {\"color\": \"#B6E880\", \"size\": [117589], \"sizemode\": \"area\", \"sizeref\": 897.7947222222223, \"symbol\": \"circle\"}, \"mode\": \"markers\", \"name\": \"Turkey\", \"showlegend\": true, \"type\": \"scatter\", \"x\": [\"Turkey\"], \"xaxis\": \"x\", \"y\": [117589], \"yaxis\": \"y\"}, {\"hovertemplate\": \"<b>%{hovertext}</b><br><br>Country=%{x}<br>Total_Cases=%{marker.size}<extra></extra>\", \"hovertext\": [\"Russia\"], \"legendgroup\": \"Russia\", \"marker\": {\"color\": \"#FF97FF\", \"size\": [106498], \"sizemode\": \"area\", \"sizeref\": 897.7947222222223, \"symbol\": \"circle\"}, \"mode\": \"markers\", \"name\": \"Russia\", \"showlegend\": true, \"type\": \"scatter\", \"x\": [\"Russia\"], \"xaxis\": \"x\", \"y\": [106498], \"yaxis\": \"y\"}, {\"hovertemplate\": \"<b>%{hovertext}</b><br><br>Country=%{x}<br>Total_Cases=%{marker.size}<extra></extra>\", \"hovertext\": [\"Iran\"], \"legendgroup\": \"Iran\", \"marker\": {\"color\": \"#FECB52\", \"size\": [93657], \"sizemode\": \"area\", \"sizeref\": 897.7947222222223, \"symbol\": \"circle\"}, \"mode\": \"markers\", \"name\": \"Iran\", \"showlegend\": true, \"type\": \"scatter\", \"x\": [\"Iran\"], \"xaxis\": \"x\", \"y\": [93657], \"yaxis\": \"y\"}],\n",
       "                        {\"legend\": {\"itemsizing\": \"constant\", \"title\": {\"text\": \"Country\"}, \"tracegroupgap\": 0}, \"margin\": {\"t\": 60}, \"template\": {\"data\": {\"bar\": [{\"error_x\": {\"color\": \"#2a3f5f\"}, \"error_y\": {\"color\": \"#2a3f5f\"}, \"marker\": {\"line\": {\"color\": \"#E5ECF6\", \"width\": 0.5}}, \"type\": \"bar\"}], \"barpolar\": [{\"marker\": {\"line\": {\"color\": \"#E5ECF6\", \"width\": 0.5}}, \"type\": \"barpolar\"}], \"carpet\": [{\"aaxis\": {\"endlinecolor\": \"#2a3f5f\", \"gridcolor\": \"white\", \"linecolor\": \"white\", \"minorgridcolor\": \"white\", \"startlinecolor\": \"#2a3f5f\"}, \"baxis\": {\"endlinecolor\": \"#2a3f5f\", \"gridcolor\": \"white\", \"linecolor\": \"white\", \"minorgridcolor\": \"white\", \"startlinecolor\": \"#2a3f5f\"}, \"type\": \"carpet\"}], \"choropleth\": [{\"colorbar\": {\"outlinewidth\": 0, \"ticks\": \"\"}, \"type\": \"choropleth\"}], \"contour\": [{\"colorbar\": {\"outlinewidth\": 0, \"ticks\": \"\"}, \"colorscale\": [[0.0, \"#0d0887\"], [0.1111111111111111, \"#46039f\"], [0.2222222222222222, \"#7201a8\"], [0.3333333333333333, \"#9c179e\"], [0.4444444444444444, \"#bd3786\"], [0.5555555555555556, \"#d8576b\"], [0.6666666666666666, \"#ed7953\"], [0.7777777777777778, \"#fb9f3a\"], [0.8888888888888888, \"#fdca26\"], [1.0, \"#f0f921\"]], \"type\": \"contour\"}], \"contourcarpet\": [{\"colorbar\": {\"outlinewidth\": 0, \"ticks\": \"\"}, \"type\": \"contourcarpet\"}], \"heatmap\": [{\"colorbar\": {\"outlinewidth\": 0, \"ticks\": \"\"}, \"colorscale\": [[0.0, \"#0d0887\"], [0.1111111111111111, \"#46039f\"], [0.2222222222222222, \"#7201a8\"], [0.3333333333333333, \"#9c179e\"], [0.4444444444444444, \"#bd3786\"], [0.5555555555555556, \"#d8576b\"], [0.6666666666666666, \"#ed7953\"], [0.7777777777777778, \"#fb9f3a\"], [0.8888888888888888, \"#fdca26\"], [1.0, \"#f0f921\"]], \"type\": \"heatmap\"}], \"heatmapgl\": [{\"colorbar\": {\"outlinewidth\": 0, \"ticks\": \"\"}, \"colorscale\": [[0.0, \"#0d0887\"], [0.1111111111111111, \"#46039f\"], [0.2222222222222222, \"#7201a8\"], [0.3333333333333333, \"#9c179e\"], [0.4444444444444444, \"#bd3786\"], [0.5555555555555556, \"#d8576b\"], [0.6666666666666666, \"#ed7953\"], [0.7777777777777778, \"#fb9f3a\"], [0.8888888888888888, \"#fdca26\"], [1.0, \"#f0f921\"]], \"type\": \"heatmapgl\"}], \"histogram\": [{\"marker\": {\"colorbar\": {\"outlinewidth\": 0, \"ticks\": \"\"}}, \"type\": \"histogram\"}], \"histogram2d\": [{\"colorbar\": {\"outlinewidth\": 0, \"ticks\": \"\"}, \"colorscale\": [[0.0, \"#0d0887\"], [0.1111111111111111, \"#46039f\"], [0.2222222222222222, \"#7201a8\"], [0.3333333333333333, \"#9c179e\"], [0.4444444444444444, \"#bd3786\"], [0.5555555555555556, \"#d8576b\"], [0.6666666666666666, \"#ed7953\"], [0.7777777777777778, \"#fb9f3a\"], [0.8888888888888888, \"#fdca26\"], [1.0, \"#f0f921\"]], \"type\": \"histogram2d\"}], \"histogram2dcontour\": [{\"colorbar\": {\"outlinewidth\": 0, \"ticks\": \"\"}, \"colorscale\": [[0.0, \"#0d0887\"], [0.1111111111111111, \"#46039f\"], [0.2222222222222222, \"#7201a8\"], [0.3333333333333333, \"#9c179e\"], [0.4444444444444444, \"#bd3786\"], [0.5555555555555556, \"#d8576b\"], [0.6666666666666666, \"#ed7953\"], [0.7777777777777778, \"#fb9f3a\"], [0.8888888888888888, \"#fdca26\"], [1.0, \"#f0f921\"]], \"type\": \"histogram2dcontour\"}], \"mesh3d\": [{\"colorbar\": {\"outlinewidth\": 0, \"ticks\": \"\"}, \"type\": \"mesh3d\"}], \"parcoords\": [{\"line\": {\"colorbar\": {\"outlinewidth\": 0, \"ticks\": \"\"}}, \"type\": \"parcoords\"}], \"pie\": [{\"automargin\": true, \"type\": \"pie\"}], \"scatter\": [{\"marker\": {\"colorbar\": {\"outlinewidth\": 0, \"ticks\": \"\"}}, \"type\": \"scatter\"}], \"scatter3d\": [{\"line\": {\"colorbar\": {\"outlinewidth\": 0, \"ticks\": \"\"}}, \"marker\": {\"colorbar\": {\"outlinewidth\": 0, \"ticks\": \"\"}}, \"type\": \"scatter3d\"}], \"scattercarpet\": [{\"marker\": {\"colorbar\": {\"outlinewidth\": 0, \"ticks\": \"\"}}, \"type\": \"scattercarpet\"}], \"scattergeo\": [{\"marker\": {\"colorbar\": {\"outlinewidth\": 0, \"ticks\": \"\"}}, \"type\": \"scattergeo\"}], \"scattergl\": [{\"marker\": {\"colorbar\": {\"outlinewidth\": 0, \"ticks\": \"\"}}, \"type\": \"scattergl\"}], \"scattermapbox\": [{\"marker\": {\"colorbar\": {\"outlinewidth\": 0, \"ticks\": \"\"}}, \"type\": \"scattermapbox\"}], \"scatterpolar\": [{\"marker\": {\"colorbar\": {\"outlinewidth\": 0, \"ticks\": \"\"}}, \"type\": \"scatterpolar\"}], \"scatterpolargl\": [{\"marker\": {\"colorbar\": {\"outlinewidth\": 0, \"ticks\": \"\"}}, \"type\": \"scatterpolargl\"}], \"scatterternary\": [{\"marker\": {\"colorbar\": {\"outlinewidth\": 0, \"ticks\": \"\"}}, \"type\": \"scatterternary\"}], \"surface\": [{\"colorbar\": {\"outlinewidth\": 0, \"ticks\": \"\"}, \"colorscale\": [[0.0, \"#0d0887\"], [0.1111111111111111, \"#46039f\"], [0.2222222222222222, \"#7201a8\"], [0.3333333333333333, \"#9c179e\"], [0.4444444444444444, \"#bd3786\"], [0.5555555555555556, \"#d8576b\"], [0.6666666666666666, \"#ed7953\"], [0.7777777777777778, \"#fb9f3a\"], [0.8888888888888888, \"#fdca26\"], [1.0, \"#f0f921\"]], \"type\": \"surface\"}], \"table\": [{\"cells\": {\"fill\": {\"color\": \"#EBF0F8\"}, \"line\": {\"color\": \"white\"}}, \"header\": {\"fill\": {\"color\": \"#C8D4E3\"}, \"line\": {\"color\": \"white\"}}, \"type\": \"table\"}]}, \"layout\": {\"annotationdefaults\": {\"arrowcolor\": \"#2a3f5f\", \"arrowhead\": 0, \"arrowwidth\": 1}, \"coloraxis\": {\"colorbar\": {\"outlinewidth\": 0, \"ticks\": \"\"}}, \"colorscale\": {\"diverging\": [[0, \"#8e0152\"], [0.1, \"#c51b7d\"], [0.2, \"#de77ae\"], [0.3, \"#f1b6da\"], [0.4, \"#fde0ef\"], [0.5, \"#f7f7f7\"], [0.6, \"#e6f5d0\"], [0.7, \"#b8e186\"], [0.8, \"#7fbc41\"], [0.9, \"#4d9221\"], [1, \"#276419\"]], \"sequential\": [[0.0, \"#0d0887\"], [0.1111111111111111, \"#46039f\"], [0.2222222222222222, \"#7201a8\"], [0.3333333333333333, \"#9c179e\"], [0.4444444444444444, \"#bd3786\"], [0.5555555555555556, \"#d8576b\"], [0.6666666666666666, \"#ed7953\"], [0.7777777777777778, \"#fb9f3a\"], [0.8888888888888888, \"#fdca26\"], [1.0, \"#f0f921\"]], \"sequentialminus\": [[0.0, \"#0d0887\"], [0.1111111111111111, \"#46039f\"], [0.2222222222222222, \"#7201a8\"], [0.3333333333333333, \"#9c179e\"], [0.4444444444444444, \"#bd3786\"], [0.5555555555555556, \"#d8576b\"], [0.6666666666666666, \"#ed7953\"], [0.7777777777777778, \"#fb9f3a\"], [0.8888888888888888, \"#fdca26\"], [1.0, \"#f0f921\"]]}, \"colorway\": [\"#636efa\", \"#EF553B\", \"#00cc96\", \"#ab63fa\", \"#FFA15A\", \"#19d3f3\", \"#FF6692\", \"#B6E880\", \"#FF97FF\", \"#FECB52\"], \"font\": {\"color\": \"#2a3f5f\"}, \"geo\": {\"bgcolor\": \"white\", \"lakecolor\": \"white\", \"landcolor\": \"#E5ECF6\", \"showlakes\": true, \"showland\": true, \"subunitcolor\": \"white\"}, \"hoverlabel\": {\"align\": \"left\"}, \"hovermode\": \"closest\", \"mapbox\": {\"style\": \"light\"}, \"paper_bgcolor\": \"white\", \"plot_bgcolor\": \"#E5ECF6\", \"polar\": {\"angularaxis\": {\"gridcolor\": \"white\", \"linecolor\": \"white\", \"ticks\": \"\"}, \"bgcolor\": \"#E5ECF6\", \"radialaxis\": {\"gridcolor\": \"white\", \"linecolor\": \"white\", \"ticks\": \"\"}}, \"scene\": {\"xaxis\": {\"backgroundcolor\": \"#E5ECF6\", \"gridcolor\": \"white\", \"gridwidth\": 2, \"linecolor\": \"white\", \"showbackground\": true, \"ticks\": \"\", \"zerolinecolor\": \"white\"}, \"yaxis\": {\"backgroundcolor\": \"#E5ECF6\", \"gridcolor\": \"white\", \"gridwidth\": 2, \"linecolor\": \"white\", \"showbackground\": true, \"ticks\": \"\", \"zerolinecolor\": \"white\"}, \"zaxis\": {\"backgroundcolor\": \"#E5ECF6\", \"gridcolor\": \"white\", \"gridwidth\": 2, \"linecolor\": \"white\", \"showbackground\": true, \"ticks\": \"\", \"zerolinecolor\": \"white\"}}, \"shapedefaults\": {\"line\": {\"color\": \"#2a3f5f\"}}, \"ternary\": {\"aaxis\": {\"gridcolor\": \"white\", \"linecolor\": \"white\", \"ticks\": \"\"}, \"baxis\": {\"gridcolor\": \"white\", \"linecolor\": \"white\", \"ticks\": \"\"}, \"bgcolor\": \"#E5ECF6\", \"caxis\": {\"gridcolor\": \"white\", \"linecolor\": \"white\", \"ticks\": \"\"}}, \"title\": {\"x\": 0.05}, \"xaxis\": {\"automargin\": true, \"gridcolor\": \"white\", \"linecolor\": \"white\", \"ticks\": \"\", \"title\": {\"standoff\": 15}, \"zerolinecolor\": \"white\", \"zerolinewidth\": 2}, \"yaxis\": {\"automargin\": true, \"gridcolor\": \"white\", \"linecolor\": \"white\", \"ticks\": \"\", \"title\": {\"standoff\": 15}, \"zerolinecolor\": \"white\", \"zerolinewidth\": 2}}}, \"title\": {\"text\": \" Worst hit countries\"}, \"width\": 700, \"xaxis\": {\"anchor\": \"y\", \"categoryarray\": [\"World\", \"USA\", \"Spain\", \"Italy\", \"France\", \"UK\", \"Germany\", \"Turkey\", \"Russia\", \"Iran\"], \"categoryorder\": \"array\", \"domain\": [0.0, 1.0], \"title\": {\"text\": \"Countries\"}}, \"yaxis\": {\"anchor\": \"x\", \"domain\": [0.0, 1.0], \"title\": {\"text\": \"Confirmed Cases\"}}},\n",
       "                        {\"responsive\": true}\n",
       "                    ).then(function(){\n",
       "                            \n",
       "var gd = document.getElementById('b5fb69cc-aa67-4399-84cf-95bfebfc516c');\n",
       "var x = new MutationObserver(function (mutations, observer) {{\n",
       "        var display = window.getComputedStyle(gd).display;\n",
       "        if (!display || display === 'none') {{\n",
       "            console.log([gd, 'removed!']);\n",
       "            Plotly.purge(gd);\n",
       "            observer.disconnect();\n",
       "        }}\n",
       "}});\n",
       "\n",
       "// Listen for the removal of the full notebook cells\n",
       "var notebookContainer = gd.closest('#notebook-container');\n",
       "if (notebookContainer) {{\n",
       "    x.observe(notebookContainer, {childList: true});\n",
       "}}\n",
       "\n",
       "// Listen for the clearing of the current output cell\n",
       "var outputEl = gd.closest('.output');\n",
       "if (outputEl) {{\n",
       "    x.observe(outputEl, {childList: true});\n",
       "}}\n",
       "\n",
       "                        })\n",
       "                };\n",
       "                });\n",
       "            </script>\n",
       "        </div>"
      ]
     },
     "metadata": {},
     "output_type": "display_data"
    },
    {
     "ename": "NameError",
     "evalue": "name 'bubble_chart' is not defined",
     "output_type": "error",
     "traceback": [
      "\u001b[1;31m---------------------------------------------------------------------------\u001b[0m",
      "\u001b[1;31mNameError\u001b[0m                                 Traceback (most recent call last)",
      "\u001b[1;32m<ipython-input-63-e410e5969e9e>\u001b[0m in \u001b[0;36m<module>\u001b[1;34m\u001b[0m\n\u001b[0;32m     11\u001b[0m \u001b[1;33m\u001b[0m\u001b[0m\n\u001b[0;32m     12\u001b[0m \u001b[1;33m\u001b[0m\u001b[0m\n\u001b[1;32m---> 13\u001b[1;33m \u001b[0minteract\u001b[0m\u001b[1;33m(\u001b[0m\u001b[0mbubble_chart\u001b[0m\u001b[1;33m,\u001b[0m \u001b[0mn\u001b[0m\u001b[1;33m=\u001b[0m\u001b[1;36m10\u001b[0m\u001b[1;33m)\u001b[0m\u001b[1;33m\u001b[0m\u001b[1;33m\u001b[0m\u001b[0m\n\u001b[0m\u001b[0;32m     14\u001b[0m \u001b[1;33m\u001b[0m\u001b[0m\n\u001b[0;32m     15\u001b[0m \u001b[0mipywLayout\u001b[0m \u001b[1;33m=\u001b[0m \u001b[0mwidgets\u001b[0m\u001b[1;33m.\u001b[0m\u001b[0mLayout\u001b[0m\u001b[1;33m(\u001b[0m\u001b[0mborder\u001b[0m\u001b[1;33m=\u001b[0m\u001b[1;34m'solid 2px green'\u001b[0m\u001b[1;33m)\u001b[0m\u001b[1;33m\u001b[0m\u001b[1;33m\u001b[0m\u001b[0m\n",
      "\u001b[1;31mNameError\u001b[0m: name 'bubble_chart' is not defined"
     ]
    }
   ],
   "source": [
    "fig = px.scatter(df_country.head(10),x='Country',y='Total_Cases',size='Total_Cases',color='Country',hover_name='Country',size_max=60)\n",
    "fig.update_layout(\n",
    "    title=\" Worst hit countries\",\n",
    "    xaxis_title=\"Countries\",\n",
    "    yaxis_title=\"Confirmed Cases\",\n",
    "    width = 700\n",
    "    )\n",
    "fig.show()"
   ]
  },
  {
   "cell_type": "code",
   "execution_count": 67,
   "metadata": {},
   "outputs": [
    {
     "data": {
      "application/vnd.jupyter.widget-view+json": {
       "model_id": "1ae75d48d91f429987931d18ba3644a9",
       "version_major": 2,
       "version_minor": 0
      },
      "text/plain": [
       "interactive(children=(IntSlider(value=10, description='n', max=30, min=-10), Output()), _dom_classes=('widget-…"
      ]
     },
     "metadata": {},
     "output_type": "display_data"
    },
    {
     "ename": "TraitError",
     "evalue": "Element of the 'children' trait of a VBox instance must be a Widget, but a value of Figure({\n    'data': [{'hovertemplate': ('<b>%{hovertext}</b><br><br>Cou' ... '=%{marker.size}<extra></extra>'),\n              'hovertext': array(['World'], dtype=object),\n              'legendgroup': 'World',\n              'marker': {'color': '#636efa',\n                         'size': array([3232061]),\n                         'sizemode': 'area',\n                         'sizeref': 897.7947222222223,\n                         'symbol': 'circle'},\n              'mode': 'markers',\n              'name': 'World',\n              'showlegend': True,\n              'type': 'scatter',\n              'x': array(['World'], dtype=object),\n              'xaxis': 'x',\n              'y': array([3232061]),\n              'yaxis': 'y'},\n             {'hovertemplate': ('<b>%{hovertext}</b><br><br>Cou' ... '=%{marker.size}<extra></extra>'),\n              'hovertext': array(['USA'], dtype=object),\n              'legendgroup': 'USA',\n              'marker': {'color': '#EF553B',\n                         'size': array([1064572]),\n                         'sizemode': 'area',\n                         'sizeref': 897.7947222222223,\n                         'symbol': 'circle'},\n              'mode': 'markers',\n              'name': 'USA',\n              'showlegend': True,\n              'type': 'scatter',\n              'x': array(['USA'], dtype=object),\n              'xaxis': 'x',\n              'y': array([1064572]),\n              'yaxis': 'y'},\n             {'hovertemplate': ('<b>%{hovertext}</b><br><br>Cou' ... '=%{marker.size}<extra></extra>'),\n              'hovertext': array(['Spain'], dtype=object),\n              'legendgroup': 'Spain',\n              'marker': {'color': '#00cc96',\n                         'size': array([236899]),\n                         'sizemode': 'area',\n                         'sizeref': 897.7947222222223,\n                         'symbol': 'circle'},\n              'mode': 'markers',\n              'name': 'Spain',\n              'showlegend': True,\n              'type': 'scatter',\n              'x': array(['Spain'], dtype=object),\n              'xaxis': 'x',\n              'y': array([236899]),\n              'yaxis': 'y'},\n             {'hovertemplate': ('<b>%{hovertext}</b><br><br>Cou' ... '=%{marker.size}<extra></extra>'),\n              'hovertext': array(['Italy'], dtype=object),\n              'legendgroup': 'Italy',\n              'marker': {'color': '#ab63fa',\n                         'size': array([203591]),\n                         'sizemode': 'area',\n                         'sizeref': 897.7947222222223,\n                         'symbol': 'circle'},\n              'mode': 'markers',\n              'name': 'Italy',\n              'showlegend': True,\n              'type': 'scatter',\n              'x': array(['Italy'], dtype=object),\n              'xaxis': 'x',\n              'y': array([203591]),\n              'yaxis': 'y'},\n             {'hovertemplate': ('<b>%{hovertext}</b><br><br>Cou' ... '=%{marker.size}<extra></extra>'),\n              'hovertext': array(['France'], dtype=object),\n              'legendgroup': 'France',\n              'marker': {'color': '#FFA15A',\n                         'size': array([166420]),\n                         'sizemode': 'area',\n                         'sizeref': 897.7947222222223,\n                         'symbol': 'circle'},\n              'mode': 'markers',\n              'name': 'France',\n              'showlegend': True,\n              'type': 'scatter',\n              'x': array(['France'], dtype=object),\n              'xaxis': 'x',\n              'y': array([166420]),\n              'yaxis': 'y'},\n             {'hovertemplate': ('<b>%{hovertext}</b><br><br>Cou' ... '=%{marker.size}<extra></extra>'),\n              'hovertext': array(['UK'], dtype=object),\n              'legendgroup': 'UK',\n              'marker': {'color': '#19d3f3',\n                         'size': array([165221]),\n                         'sizemode': 'area',\n                         'sizeref': 897.7947222222223,\n                         'symbol': 'circle'},\n              'mode': 'markers',\n              'name': 'UK',\n              'showlegend': True,\n              'type': 'scatter',\n              'x': array(['UK'], dtype=object),\n              'xaxis': 'x',\n              'y': array([165221]),\n              'yaxis': 'y'},\n             {'hovertemplate': ('<b>%{hovertext}</b><br><br>Cou' ... '=%{marker.size}<extra></extra>'),\n              'hovertext': array(['Germany'], dtype=object),\n              'legendgroup': 'Germany',\n              'marker': {'color': '#FF6692',\n                         'size': array([161539]),\n                         'sizemode': 'area',\n                         'sizeref': 897.7947222222223,\n                         'symbol': 'circle'},\n              'mode': 'markers',\n              'name': 'Germany',\n              'showlegend': True,\n              'type': 'scatter',\n              'x': array(['Germany'], dtype=object),\n              'xaxis': 'x',\n              'y': array([161539]),\n              'yaxis': 'y'},\n             {'hovertemplate': ('<b>%{hovertext}</b><br><br>Cou' ... '=%{marker.size}<extra></extra>'),\n              'hovertext': array(['Turkey'], dtype=object),\n              'legendgroup': 'Turkey',\n              'marker': {'color': '#B6E880',\n                         'size': array([117589]),\n                         'sizemode': 'area',\n                         'sizeref': 897.7947222222223,\n                         'symbol': 'circle'},\n              'mode': 'markers',\n              'name': 'Turkey',\n              'showlegend': True,\n              'type': 'scatter',\n              'x': array(['Turkey'], dtype=object),\n              'xaxis': 'x',\n              'y': array([117589]),\n              'yaxis': 'y'},\n             {'hovertemplate': ('<b>%{hovertext}</b><br><br>Cou' ... '=%{marker.size}<extra></extra>'),\n              'hovertext': array(['Russia'], dtype=object),\n              'legendgroup': 'Russia',\n              'marker': {'color': '#FF97FF',\n                         'size': array([106498]),\n                         'sizemode': 'area',\n                         'sizeref': 897.7947222222223,\n                         'symbol': 'circle'},\n              'mode': 'markers',\n              'name': 'Russia',\n              'showlegend': True,\n              'type': 'scatter',\n              'x': array(['Russia'], dtype=object),\n              'xaxis': 'x',\n              'y': array([106498]),\n              'yaxis': 'y'},\n             {'hovertemplate': ('<b>%{hovertext}</b><br><br>Cou' ... '=%{marker.size}<extra></extra>'),\n              'hovertext': array(['Iran'], dtype=object),\n              'legendgroup': 'Iran',\n              'marker': {'color': '#FECB52',\n                         'size': array([93657]),\n                         'sizemode': 'area',\n                         'sizeref': 897.7947222222223,\n                         'symbol': 'circle'},\n              'mode': 'markers',\n              'name': 'Iran',\n              'showlegend': True,\n              'type': 'scatter',\n              'x': array(['Iran'], dtype=object),\n              'xaxis': 'x',\n              'y': array([93657]),\n              'yaxis': 'y'}],\n    'layout': {'legend': {'itemsizing': 'constant', 'title': {'text': 'Country'}, 'tracegroupgap': 0},\n               'margin': {'t': 60},\n               'template': '...',\n               'title': {'text': ' Worst hit countries'},\n               'width': 700,\n               'xaxis': {'anchor': 'y',\n                         'categoryarray': [World, USA, Spain, Italy, France, UK,\n                                           Germany, Turkey, Russia, Iran],\n                         'categoryorder': 'array',\n                         'domain': [0.0, 1.0],\n                         'title': {'text': 'Countries'}},\n               'yaxis': {'anchor': 'x', 'domain': [0.0, 1.0], 'title': {'text': 'Confirmed Cases'}}}\n}) <class 'plotly.graph_objs._figure.Figure'> was specified.",
     "output_type": "error",
     "traceback": [
      "\u001b[1;31m---------------------------------------------------------------------------\u001b[0m",
      "\u001b[1;31mTraitError\u001b[0m                                Traceback (most recent call last)",
      "\u001b[1;32m~\\Anaconda3\\lib\\site-packages\\traitlets\\traitlets.py\u001b[0m in \u001b[0;36mvalidate_elements\u001b[1;34m(self, obj, value)\u001b[0m\n\u001b[0;32m   2251\u001b[0m             \u001b[1;32mtry\u001b[0m\u001b[1;33m:\u001b[0m\u001b[1;33m\u001b[0m\u001b[1;33m\u001b[0m\u001b[0m\n\u001b[1;32m-> 2252\u001b[1;33m                 \u001b[0mv\u001b[0m \u001b[1;33m=\u001b[0m \u001b[0mself\u001b[0m\u001b[1;33m.\u001b[0m\u001b[0m_trait\u001b[0m\u001b[1;33m.\u001b[0m\u001b[0m_validate\u001b[0m\u001b[1;33m(\u001b[0m\u001b[0mobj\u001b[0m\u001b[1;33m,\u001b[0m \u001b[0mv\u001b[0m\u001b[1;33m)\u001b[0m\u001b[1;33m\u001b[0m\u001b[1;33m\u001b[0m\u001b[0m\n\u001b[0m\u001b[0;32m   2253\u001b[0m             \u001b[1;32mexcept\u001b[0m \u001b[0mTraitError\u001b[0m\u001b[1;33m:\u001b[0m\u001b[1;33m\u001b[0m\u001b[1;33m\u001b[0m\u001b[0m\n",
      "\u001b[1;32m~\\Anaconda3\\lib\\site-packages\\traitlets\\traitlets.py\u001b[0m in \u001b[0;36m_validate\u001b[1;34m(self, obj, value)\u001b[0m\n\u001b[0;32m    590\u001b[0m         \u001b[1;32mif\u001b[0m \u001b[0mhasattr\u001b[0m\u001b[1;33m(\u001b[0m\u001b[0mself\u001b[0m\u001b[1;33m,\u001b[0m \u001b[1;34m'validate'\u001b[0m\u001b[1;33m)\u001b[0m\u001b[1;33m:\u001b[0m\u001b[1;33m\u001b[0m\u001b[1;33m\u001b[0m\u001b[0m\n\u001b[1;32m--> 591\u001b[1;33m             \u001b[0mvalue\u001b[0m \u001b[1;33m=\u001b[0m \u001b[0mself\u001b[0m\u001b[1;33m.\u001b[0m\u001b[0mvalidate\u001b[0m\u001b[1;33m(\u001b[0m\u001b[0mobj\u001b[0m\u001b[1;33m,\u001b[0m \u001b[0mvalue\u001b[0m\u001b[1;33m)\u001b[0m\u001b[1;33m\u001b[0m\u001b[1;33m\u001b[0m\u001b[0m\n\u001b[0m\u001b[0;32m    592\u001b[0m         \u001b[1;32mif\u001b[0m \u001b[0mobj\u001b[0m\u001b[1;33m.\u001b[0m\u001b[0m_cross_validation_lock\u001b[0m \u001b[1;32mis\u001b[0m \u001b[1;32mFalse\u001b[0m\u001b[1;33m:\u001b[0m\u001b[1;33m\u001b[0m\u001b[1;33m\u001b[0m\u001b[0m\n",
      "\u001b[1;32m~\\Anaconda3\\lib\\site-packages\\traitlets\\traitlets.py\u001b[0m in \u001b[0;36mvalidate\u001b[1;34m(self, obj, value)\u001b[0m\n\u001b[0;32m   1676\u001b[0m         \u001b[1;32melse\u001b[0m\u001b[1;33m:\u001b[0m\u001b[1;33m\u001b[0m\u001b[1;33m\u001b[0m\u001b[0m\n\u001b[1;32m-> 1677\u001b[1;33m             \u001b[0mself\u001b[0m\u001b[1;33m.\u001b[0m\u001b[0merror\u001b[0m\u001b[1;33m(\u001b[0m\u001b[0mobj\u001b[0m\u001b[1;33m,\u001b[0m \u001b[0mvalue\u001b[0m\u001b[1;33m)\u001b[0m\u001b[1;33m\u001b[0m\u001b[1;33m\u001b[0m\u001b[0m\n\u001b[0m\u001b[0;32m   1678\u001b[0m \u001b[1;33m\u001b[0m\u001b[0m\n",
      "\u001b[1;32m~\\Anaconda3\\lib\\site-packages\\traitlets\\traitlets.py\u001b[0m in \u001b[0;36merror\u001b[1;34m(self, obj, value)\u001b[0m\n\u001b[0;32m   1523\u001b[0m \u001b[1;33m\u001b[0m\u001b[0m\n\u001b[1;32m-> 1524\u001b[1;33m         \u001b[1;32mraise\u001b[0m \u001b[0mTraitError\u001b[0m\u001b[1;33m(\u001b[0m\u001b[0me\u001b[0m\u001b[1;33m)\u001b[0m\u001b[1;33m\u001b[0m\u001b[1;33m\u001b[0m\u001b[0m\n\u001b[0m\u001b[0;32m   1525\u001b[0m \u001b[1;33m\u001b[0m\u001b[0m\n",
      "\u001b[1;31mTraitError\u001b[0m: The 'None' trait of a VBox instance must be a Widget, but a value of class 'plotly.graph_objs._figure.Figure' (i.e. Figure({\n    'data': [{'hovertemplate': ('<b>%{hovertext}</b><br><br>Cou' ... '=%{marker.size}<extra></extra>'),\n              'hovertext': array(['World'], dtype=object),\n              'legendgroup': 'World',\n              'marker': {'color': '#636efa',\n                         'size': array([3232061]),\n                         'sizemode': 'area',\n                         'sizeref': 897.7947222222223,\n                         'symbol': 'circle'},\n              'mode': 'markers',\n              'name': 'World',\n              'showlegend': True,\n              'type': 'scatter',\n              'x': array(['World'], dtype=object),\n              'xaxis': 'x',\n              'y': array([3232061]),\n              'yaxis': 'y'},\n             {'hovertemplate': ('<b>%{hovertext}</b><br><br>Cou' ... '=%{marker.size}<extra></extra>'),\n              'hovertext': array(['USA'], dtype=object),\n              'legendgroup': 'USA',\n              'marker': {'color': '#EF553B',\n                         'size': array([1064572]),\n                         'sizemode': 'area',\n                         'sizeref': 897.7947222222223,\n                         'symbol': 'circle'},\n              'mode': 'markers',\n              'name': 'USA',\n              'showlegend': True,\n              'type': 'scatter',\n              'x': array(['USA'], dtype=object),\n              'xaxis': 'x',\n              'y': array([1064572]),\n              'yaxis': 'y'},\n             {'hovertemplate': ('<b>%{hovertext}</b><br><br>Cou' ... '=%{marker.size}<extra></extra>'),\n              'hovertext': array(['Spain'], dtype=object),\n              'legendgroup': 'Spain',\n              'marker': {'color': '#00cc96',\n                         'size': array([236899]),\n                         'sizemode': 'area',\n                         'sizeref': 897.7947222222223,\n                         'symbol': 'circle'},\n              'mode': 'markers',\n              'name': 'Spain',\n              'showlegend': True,\n              'type': 'scatter',\n              'x': array(['Spain'], dtype=object),\n              'xaxis': 'x',\n              'y': array([236899]),\n              'yaxis': 'y'},\n             {'hovertemplate': ('<b>%{hovertext}</b><br><br>Cou' ... '=%{marker.size}<extra></extra>'),\n              'hovertext': array(['Italy'], dtype=object),\n              'legendgroup': 'Italy',\n              'marker': {'color': '#ab63fa',\n                         'size': array([203591]),\n                         'sizemode': 'area',\n                         'sizeref': 897.7947222222223,\n                         'symbol': 'circle'},\n              'mode': 'markers',\n              'name': 'Italy',\n              'showlegend': True,\n              'type': 'scatter',\n              'x': array(['Italy'], dtype=object),\n              'xaxis': 'x',\n              'y': array([203591]),\n              'yaxis': 'y'},\n             {'hovertemplate': ('<b>%{hovertext}</b><br><br>Cou' ... '=%{marker.size}<extra></extra>'),\n              'hovertext': array(['France'], dtype=object),\n              'legendgroup': 'France',\n              'marker': {'color': '#FFA15A',\n                         'size': array([166420]),\n                         'sizemode': 'area',\n                         'sizeref': 897.7947222222223,\n                         'symbol': 'circle'},\n              'mode': 'markers',\n              'name': 'France',\n              'showlegend': True,\n              'type': 'scatter',\n              'x': array(['France'], dtype=object),\n              'xaxis': 'x',\n              'y': array([166420]),\n              'yaxis': 'y'},\n             {'hovertemplate': ('<b>%{hovertext}</b><br><br>Cou' ... '=%{marker.size}<extra></extra>'),\n              'hovertext': array(['UK'], dtype=object),\n              'legendgroup': 'UK',\n              'marker': {'color': '#19d3f3',\n                         'size': array([165221]),\n                         'sizemode': 'area',\n                         'sizeref': 897.7947222222223,\n                         'symbol': 'circle'},\n              'mode': 'markers',\n              'name': 'UK',\n              'showlegend': True,\n              'type': 'scatter',\n              'x': array(['UK'], dtype=object),\n              'xaxis': 'x',\n              'y': array([165221]),\n              'yaxis': 'y'},\n             {'hovertemplate': ('<b>%{hovertext}</b><br><br>Cou' ... '=%{marker.size}<extra></extra>'),\n              'hovertext': array(['Germany'], dtype=object),\n              'legendgroup': 'Germany',\n              'marker': {'color': '#FF6692',\n                         'size': array([161539]),\n                         'sizemode': 'area',\n                         'sizeref': 897.7947222222223,\n                         'symbol': 'circle'},\n              'mode': 'markers',\n              'name': 'Germany',\n              'showlegend': True,\n              'type': 'scatter',\n              'x': array(['Germany'], dtype=object),\n              'xaxis': 'x',\n              'y': array([161539]),\n              'yaxis': 'y'},\n             {'hovertemplate': ('<b>%{hovertext}</b><br><br>Cou' ... '=%{marker.size}<extra></extra>'),\n              'hovertext': array(['Turkey'], dtype=object),\n              'legendgroup': 'Turkey',\n              'marker': {'color': '#B6E880',\n                         'size': array([117589]),\n                         'sizemode': 'area',\n                         'sizeref': 897.7947222222223,\n                         'symbol': 'circle'},\n              'mode': 'markers',\n              'name': 'Turkey',\n              'showlegend': True,\n              'type': 'scatter',\n              'x': array(['Turkey'], dtype=object),\n              'xaxis': 'x',\n              'y': array([117589]),\n              'yaxis': 'y'},\n             {'hovertemplate': ('<b>%{hovertext}</b><br><br>Cou' ... '=%{marker.size}<extra></extra>'),\n              'hovertext': array(['Russia'], dtype=object),\n              'legendgroup': 'Russia',\n              'marker': {'color': '#FF97FF',\n                         'size': array([106498]),\n                         'sizemode': 'area',\n                         'sizeref': 897.7947222222223,\n                         'symbol': 'circle'},\n              'mode': 'markers',\n              'name': 'Russia',\n              'showlegend': True,\n              'type': 'scatter',\n              'x': array(['Russia'], dtype=object),\n              'xaxis': 'x',\n              'y': array([106498]),\n              'yaxis': 'y'},\n             {'hovertemplate': ('<b>%{hovertext}</b><br><br>Cou' ... '=%{marker.size}<extra></extra>'),\n              'hovertext': array(['Iran'], dtype=object),\n              'legendgroup': 'Iran',\n              'marker': {'color': '#FECB52',\n                         'size': array([93657]),\n                         'sizemode': 'area',\n                         'sizeref': 897.7947222222223,\n                         'symbol': 'circle'},\n              'mode': 'markers',\n              'name': 'Iran',\n              'showlegend': True,\n              'type': 'scatter',\n              'x': array(['Iran'], dtype=object),\n              'xaxis': 'x',\n              'y': array([93657]),\n              'yaxis': 'y'}],\n    'layout': {'legend': {'itemsizing': 'constant', 'title': {'text': 'Country'}, 'tracegroupgap': 0},\n               'margin': {'t': 60},\n               'template': '...',\n               'title': {'text': ' Worst hit countries'},\n               'width': 700,\n               'xaxis': {'anchor': 'y',\n                         'categoryarray': [World, USA, Spain, Italy, France, UK,\n                                           Germany, Turkey, Russia, Iran],\n                         'categoryorder': 'array',\n                         'domain': [0.0, 1.0],\n                         'title': {'text': 'Countries'}},\n               'yaxis': {'anchor': 'x', 'domain': [0.0, 1.0], 'title': {'text': 'Confirmed Cases'}}}\n})) was specified.",
      "\nDuring handling of the above exception, another exception occurred:\n",
      "\u001b[1;31mTraitError\u001b[0m                                Traceback (most recent call last)",
      "\u001b[1;32m<ipython-input-67-1c23e448291d>\u001b[0m in \u001b[0;36m<module>\u001b[1;34m\u001b[0m\n\u001b[0;32m     14\u001b[0m \u001b[0mipywLayout\u001b[0m \u001b[1;33m=\u001b[0m \u001b[0mwidgets\u001b[0m\u001b[1;33m.\u001b[0m\u001b[0mLayout\u001b[0m\u001b[1;33m(\u001b[0m\u001b[0mborder\u001b[0m\u001b[1;33m=\u001b[0m\u001b[1;34m'solid 2px green'\u001b[0m\u001b[1;33m)\u001b[0m\u001b[1;33m\u001b[0m\u001b[1;33m\u001b[0m\u001b[0m\n\u001b[0;32m     15\u001b[0m \u001b[0mipywLayout\u001b[0m\u001b[1;33m.\u001b[0m\u001b[0mdisplay\u001b[0m\u001b[1;33m=\u001b[0m\u001b[1;34m'none'\u001b[0m\u001b[1;33m\u001b[0m\u001b[1;33m\u001b[0m\u001b[0m\n\u001b[1;32m---> 16\u001b[1;33m \u001b[0mwidgets\u001b[0m\u001b[1;33m.\u001b[0m\u001b[0mVBox\u001b[0m\u001b[1;33m(\u001b[0m\u001b[1;33m[\u001b[0m\u001b[0mfig\u001b[0m\u001b[1;33m]\u001b[0m\u001b[1;33m,\u001b[0m \u001b[0mlayout\u001b[0m\u001b[1;33m=\u001b[0m\u001b[0mipywLayout\u001b[0m\u001b[1;33m)\u001b[0m\u001b[1;33m\u001b[0m\u001b[1;33m\u001b[0m\u001b[0m\n\u001b[0m",
      "\u001b[1;32m~\\Anaconda3\\lib\\site-packages\\ipywidgets\\widgets\\widget_box.py\u001b[0m in \u001b[0;36m__init__\u001b[1;34m(self, children, **kwargs)\u001b[0m\n\u001b[0;32m     62\u001b[0m     \u001b[1;32mdef\u001b[0m \u001b[0m__init__\u001b[0m\u001b[1;33m(\u001b[0m\u001b[0mself\u001b[0m\u001b[1;33m,\u001b[0m \u001b[0mchildren\u001b[0m\u001b[1;33m=\u001b[0m\u001b[1;33m(\u001b[0m\u001b[1;33m)\u001b[0m\u001b[1;33m,\u001b[0m \u001b[1;33m**\u001b[0m\u001b[0mkwargs\u001b[0m\u001b[1;33m)\u001b[0m\u001b[1;33m:\u001b[0m\u001b[1;33m\u001b[0m\u001b[1;33m\u001b[0m\u001b[0m\n\u001b[0;32m     63\u001b[0m         \u001b[0mkwargs\u001b[0m\u001b[1;33m[\u001b[0m\u001b[1;34m'children'\u001b[0m\u001b[1;33m]\u001b[0m \u001b[1;33m=\u001b[0m \u001b[0mchildren\u001b[0m\u001b[1;33m\u001b[0m\u001b[1;33m\u001b[0m\u001b[0m\n\u001b[1;32m---> 64\u001b[1;33m         \u001b[0msuper\u001b[0m\u001b[1;33m(\u001b[0m\u001b[0mBox\u001b[0m\u001b[1;33m,\u001b[0m \u001b[0mself\u001b[0m\u001b[1;33m)\u001b[0m\u001b[1;33m.\u001b[0m\u001b[0m__init__\u001b[0m\u001b[1;33m(\u001b[0m\u001b[1;33m**\u001b[0m\u001b[0mkwargs\u001b[0m\u001b[1;33m)\u001b[0m\u001b[1;33m\u001b[0m\u001b[1;33m\u001b[0m\u001b[0m\n\u001b[0m\u001b[0;32m     65\u001b[0m         \u001b[0mself\u001b[0m\u001b[1;33m.\u001b[0m\u001b[0mon_displayed\u001b[0m\u001b[1;33m(\u001b[0m\u001b[0mBox\u001b[0m\u001b[1;33m.\u001b[0m\u001b[0m_fire_children_displayed\u001b[0m\u001b[1;33m)\u001b[0m\u001b[1;33m\u001b[0m\u001b[1;33m\u001b[0m\u001b[0m\n\u001b[0;32m     66\u001b[0m \u001b[1;33m\u001b[0m\u001b[0m\n",
      "\u001b[1;32m~\\Anaconda3\\lib\\site-packages\\ipywidgets\\widgets\\widget.py\u001b[0m in \u001b[0;36m__init__\u001b[1;34m(self, **kwargs)\u001b[0m\n\u001b[0;32m    410\u001b[0m         \u001b[1;34m\"\"\"Public constructor\"\"\"\u001b[0m\u001b[1;33m\u001b[0m\u001b[1;33m\u001b[0m\u001b[0m\n\u001b[0;32m    411\u001b[0m         \u001b[0mself\u001b[0m\u001b[1;33m.\u001b[0m\u001b[0m_model_id\u001b[0m \u001b[1;33m=\u001b[0m \u001b[0mkwargs\u001b[0m\u001b[1;33m.\u001b[0m\u001b[0mpop\u001b[0m\u001b[1;33m(\u001b[0m\u001b[1;34m'model_id'\u001b[0m\u001b[1;33m,\u001b[0m \u001b[1;32mNone\u001b[0m\u001b[1;33m)\u001b[0m\u001b[1;33m\u001b[0m\u001b[1;33m\u001b[0m\u001b[0m\n\u001b[1;32m--> 412\u001b[1;33m         \u001b[0msuper\u001b[0m\u001b[1;33m(\u001b[0m\u001b[0mWidget\u001b[0m\u001b[1;33m,\u001b[0m \u001b[0mself\u001b[0m\u001b[1;33m)\u001b[0m\u001b[1;33m.\u001b[0m\u001b[0m__init__\u001b[0m\u001b[1;33m(\u001b[0m\u001b[1;33m**\u001b[0m\u001b[0mkwargs\u001b[0m\u001b[1;33m)\u001b[0m\u001b[1;33m\u001b[0m\u001b[1;33m\u001b[0m\u001b[0m\n\u001b[0m\u001b[0;32m    413\u001b[0m \u001b[1;33m\u001b[0m\u001b[0m\n\u001b[0;32m    414\u001b[0m         \u001b[0mWidget\u001b[0m\u001b[1;33m.\u001b[0m\u001b[0m_call_widget_constructed\u001b[0m\u001b[1;33m(\u001b[0m\u001b[0mself\u001b[0m\u001b[1;33m)\u001b[0m\u001b[1;33m\u001b[0m\u001b[1;33m\u001b[0m\u001b[0m\n",
      "\u001b[1;32m~\\Anaconda3\\lib\\site-packages\\traitlets\\traitlets.py\u001b[0m in \u001b[0;36m__init__\u001b[1;34m(self, *args, **kwargs)\u001b[0m\n\u001b[0;32m    995\u001b[0m             \u001b[1;32mfor\u001b[0m \u001b[0mkey\u001b[0m\u001b[1;33m,\u001b[0m \u001b[0mvalue\u001b[0m \u001b[1;32min\u001b[0m \u001b[0mkwargs\u001b[0m\u001b[1;33m.\u001b[0m\u001b[0mitems\u001b[0m\u001b[1;33m(\u001b[0m\u001b[1;33m)\u001b[0m\u001b[1;33m:\u001b[0m\u001b[1;33m\u001b[0m\u001b[1;33m\u001b[0m\u001b[0m\n\u001b[0;32m    996\u001b[0m                 \u001b[1;32mif\u001b[0m \u001b[0mself\u001b[0m\u001b[1;33m.\u001b[0m\u001b[0mhas_trait\u001b[0m\u001b[1;33m(\u001b[0m\u001b[0mkey\u001b[0m\u001b[1;33m)\u001b[0m\u001b[1;33m:\u001b[0m\u001b[1;33m\u001b[0m\u001b[1;33m\u001b[0m\u001b[0m\n\u001b[1;32m--> 997\u001b[1;33m                     \u001b[0msetattr\u001b[0m\u001b[1;33m(\u001b[0m\u001b[0mself\u001b[0m\u001b[1;33m,\u001b[0m \u001b[0mkey\u001b[0m\u001b[1;33m,\u001b[0m \u001b[0mvalue\u001b[0m\u001b[1;33m)\u001b[0m\u001b[1;33m\u001b[0m\u001b[1;33m\u001b[0m\u001b[0m\n\u001b[0m\u001b[0;32m    998\u001b[0m                 \u001b[1;32melse\u001b[0m\u001b[1;33m:\u001b[0m\u001b[1;33m\u001b[0m\u001b[1;33m\u001b[0m\u001b[0m\n\u001b[0;32m    999\u001b[0m                     \u001b[1;31m# passthrough args that don't set traits to super\u001b[0m\u001b[1;33m\u001b[0m\u001b[1;33m\u001b[0m\u001b[1;33m\u001b[0m\u001b[0m\n",
      "\u001b[1;32m~\\Anaconda3\\lib\\site-packages\\traitlets\\traitlets.py\u001b[0m in \u001b[0;36m__set__\u001b[1;34m(self, obj, value)\u001b[0m\n\u001b[0;32m    583\u001b[0m             \u001b[1;32mraise\u001b[0m \u001b[0mTraitError\u001b[0m\u001b[1;33m(\u001b[0m\u001b[1;34m'The \"%s\" trait is read-only.'\u001b[0m \u001b[1;33m%\u001b[0m \u001b[0mself\u001b[0m\u001b[1;33m.\u001b[0m\u001b[0mname\u001b[0m\u001b[1;33m)\u001b[0m\u001b[1;33m\u001b[0m\u001b[1;33m\u001b[0m\u001b[0m\n\u001b[0;32m    584\u001b[0m         \u001b[1;32melse\u001b[0m\u001b[1;33m:\u001b[0m\u001b[1;33m\u001b[0m\u001b[1;33m\u001b[0m\u001b[0m\n\u001b[1;32m--> 585\u001b[1;33m             \u001b[0mself\u001b[0m\u001b[1;33m.\u001b[0m\u001b[0mset\u001b[0m\u001b[1;33m(\u001b[0m\u001b[0mobj\u001b[0m\u001b[1;33m,\u001b[0m \u001b[0mvalue\u001b[0m\u001b[1;33m)\u001b[0m\u001b[1;33m\u001b[0m\u001b[1;33m\u001b[0m\u001b[0m\n\u001b[0m\u001b[0;32m    586\u001b[0m \u001b[1;33m\u001b[0m\u001b[0m\n\u001b[0;32m    587\u001b[0m     \u001b[1;32mdef\u001b[0m \u001b[0m_validate\u001b[0m\u001b[1;33m(\u001b[0m\u001b[0mself\u001b[0m\u001b[1;33m,\u001b[0m \u001b[0mobj\u001b[0m\u001b[1;33m,\u001b[0m \u001b[0mvalue\u001b[0m\u001b[1;33m)\u001b[0m\u001b[1;33m:\u001b[0m\u001b[1;33m\u001b[0m\u001b[1;33m\u001b[0m\u001b[0m\n",
      "\u001b[1;32m~\\Anaconda3\\lib\\site-packages\\traitlets\\traitlets.py\u001b[0m in \u001b[0;36mset\u001b[1;34m(self, obj, value)\u001b[0m\n\u001b[0;32m    557\u001b[0m \u001b[1;33m\u001b[0m\u001b[0m\n\u001b[0;32m    558\u001b[0m     \u001b[1;32mdef\u001b[0m \u001b[0mset\u001b[0m\u001b[1;33m(\u001b[0m\u001b[0mself\u001b[0m\u001b[1;33m,\u001b[0m \u001b[0mobj\u001b[0m\u001b[1;33m,\u001b[0m \u001b[0mvalue\u001b[0m\u001b[1;33m)\u001b[0m\u001b[1;33m:\u001b[0m\u001b[1;33m\u001b[0m\u001b[1;33m\u001b[0m\u001b[0m\n\u001b[1;32m--> 559\u001b[1;33m         \u001b[0mnew_value\u001b[0m \u001b[1;33m=\u001b[0m \u001b[0mself\u001b[0m\u001b[1;33m.\u001b[0m\u001b[0m_validate\u001b[0m\u001b[1;33m(\u001b[0m\u001b[0mobj\u001b[0m\u001b[1;33m,\u001b[0m \u001b[0mvalue\u001b[0m\u001b[1;33m)\u001b[0m\u001b[1;33m\u001b[0m\u001b[1;33m\u001b[0m\u001b[0m\n\u001b[0m\u001b[0;32m    560\u001b[0m         \u001b[1;32mtry\u001b[0m\u001b[1;33m:\u001b[0m\u001b[1;33m\u001b[0m\u001b[1;33m\u001b[0m\u001b[0m\n\u001b[0;32m    561\u001b[0m             \u001b[0mold_value\u001b[0m \u001b[1;33m=\u001b[0m \u001b[0mobj\u001b[0m\u001b[1;33m.\u001b[0m\u001b[0m_trait_values\u001b[0m\u001b[1;33m[\u001b[0m\u001b[0mself\u001b[0m\u001b[1;33m.\u001b[0m\u001b[0mname\u001b[0m\u001b[1;33m]\u001b[0m\u001b[1;33m\u001b[0m\u001b[1;33m\u001b[0m\u001b[0m\n",
      "\u001b[1;32m~\\Anaconda3\\lib\\site-packages\\traitlets\\traitlets.py\u001b[0m in \u001b[0;36m_validate\u001b[1;34m(self, obj, value)\u001b[0m\n\u001b[0;32m    589\u001b[0m             \u001b[1;32mreturn\u001b[0m \u001b[0mvalue\u001b[0m\u001b[1;33m\u001b[0m\u001b[1;33m\u001b[0m\u001b[0m\n\u001b[0;32m    590\u001b[0m         \u001b[1;32mif\u001b[0m \u001b[0mhasattr\u001b[0m\u001b[1;33m(\u001b[0m\u001b[0mself\u001b[0m\u001b[1;33m,\u001b[0m \u001b[1;34m'validate'\u001b[0m\u001b[1;33m)\u001b[0m\u001b[1;33m:\u001b[0m\u001b[1;33m\u001b[0m\u001b[1;33m\u001b[0m\u001b[0m\n\u001b[1;32m--> 591\u001b[1;33m             \u001b[0mvalue\u001b[0m \u001b[1;33m=\u001b[0m \u001b[0mself\u001b[0m\u001b[1;33m.\u001b[0m\u001b[0mvalidate\u001b[0m\u001b[1;33m(\u001b[0m\u001b[0mobj\u001b[0m\u001b[1;33m,\u001b[0m \u001b[0mvalue\u001b[0m\u001b[1;33m)\u001b[0m\u001b[1;33m\u001b[0m\u001b[1;33m\u001b[0m\u001b[0m\n\u001b[0m\u001b[0;32m    592\u001b[0m         \u001b[1;32mif\u001b[0m \u001b[0mobj\u001b[0m\u001b[1;33m.\u001b[0m\u001b[0m_cross_validation_lock\u001b[0m \u001b[1;32mis\u001b[0m \u001b[1;32mFalse\u001b[0m\u001b[1;33m:\u001b[0m\u001b[1;33m\u001b[0m\u001b[1;33m\u001b[0m\u001b[0m\n\u001b[0;32m    593\u001b[0m             \u001b[0mvalue\u001b[0m \u001b[1;33m=\u001b[0m \u001b[0mself\u001b[0m\u001b[1;33m.\u001b[0m\u001b[0m_cross_validate\u001b[0m\u001b[1;33m(\u001b[0m\u001b[0mobj\u001b[0m\u001b[1;33m,\u001b[0m \u001b[0mvalue\u001b[0m\u001b[1;33m)\u001b[0m\u001b[1;33m\u001b[0m\u001b[1;33m\u001b[0m\u001b[0m\n",
      "\u001b[1;32m~\\Anaconda3\\lib\\site-packages\\traitlets\\traitlets.py\u001b[0m in \u001b[0;36mvalidate\u001b[1;34m(self, obj, value)\u001b[0m\n\u001b[0;32m   2240\u001b[0m             \u001b[1;32mreturn\u001b[0m \u001b[0mvalue\u001b[0m\u001b[1;33m\u001b[0m\u001b[1;33m\u001b[0m\u001b[0m\n\u001b[0;32m   2241\u001b[0m \u001b[1;33m\u001b[0m\u001b[0m\n\u001b[1;32m-> 2242\u001b[1;33m         \u001b[0mvalue\u001b[0m \u001b[1;33m=\u001b[0m \u001b[0mself\u001b[0m\u001b[1;33m.\u001b[0m\u001b[0mvalidate_elements\u001b[0m\u001b[1;33m(\u001b[0m\u001b[0mobj\u001b[0m\u001b[1;33m,\u001b[0m \u001b[0mvalue\u001b[0m\u001b[1;33m)\u001b[0m\u001b[1;33m\u001b[0m\u001b[1;33m\u001b[0m\u001b[0m\n\u001b[0m\u001b[0;32m   2243\u001b[0m \u001b[1;33m\u001b[0m\u001b[0m\n\u001b[0;32m   2244\u001b[0m         \u001b[1;32mreturn\u001b[0m \u001b[0mvalue\u001b[0m\u001b[1;33m\u001b[0m\u001b[1;33m\u001b[0m\u001b[0m\n",
      "\u001b[1;32m~\\Anaconda3\\lib\\site-packages\\traitlets\\traitlets.py\u001b[0m in \u001b[0;36mvalidate_elements\u001b[1;34m(self, obj, value)\u001b[0m\n\u001b[0;32m   2252\u001b[0m                 \u001b[0mv\u001b[0m \u001b[1;33m=\u001b[0m \u001b[0mself\u001b[0m\u001b[1;33m.\u001b[0m\u001b[0m_trait\u001b[0m\u001b[1;33m.\u001b[0m\u001b[0m_validate\u001b[0m\u001b[1;33m(\u001b[0m\u001b[0mobj\u001b[0m\u001b[1;33m,\u001b[0m \u001b[0mv\u001b[0m\u001b[1;33m)\u001b[0m\u001b[1;33m\u001b[0m\u001b[1;33m\u001b[0m\u001b[0m\n\u001b[0;32m   2253\u001b[0m             \u001b[1;32mexcept\u001b[0m \u001b[0mTraitError\u001b[0m\u001b[1;33m:\u001b[0m\u001b[1;33m\u001b[0m\u001b[1;33m\u001b[0m\u001b[0m\n\u001b[1;32m-> 2254\u001b[1;33m                 \u001b[0mself\u001b[0m\u001b[1;33m.\u001b[0m\u001b[0melement_error\u001b[0m\u001b[1;33m(\u001b[0m\u001b[0mobj\u001b[0m\u001b[1;33m,\u001b[0m \u001b[0mv\u001b[0m\u001b[1;33m,\u001b[0m \u001b[0mself\u001b[0m\u001b[1;33m.\u001b[0m\u001b[0m_trait\u001b[0m\u001b[1;33m)\u001b[0m\u001b[1;33m\u001b[0m\u001b[1;33m\u001b[0m\u001b[0m\n\u001b[0m\u001b[0;32m   2255\u001b[0m             \u001b[1;32melse\u001b[0m\u001b[1;33m:\u001b[0m\u001b[1;33m\u001b[0m\u001b[1;33m\u001b[0m\u001b[0m\n\u001b[0;32m   2256\u001b[0m                 \u001b[0mvalidated\u001b[0m\u001b[1;33m.\u001b[0m\u001b[0mappend\u001b[0m\u001b[1;33m(\u001b[0m\u001b[0mv\u001b[0m\u001b[1;33m)\u001b[0m\u001b[1;33m\u001b[0m\u001b[1;33m\u001b[0m\u001b[0m\n",
      "\u001b[1;32m~\\Anaconda3\\lib\\site-packages\\traitlets\\traitlets.py\u001b[0m in \u001b[0;36melement_error\u001b[1;34m(self, obj, element, validator)\u001b[0m\n\u001b[0;32m   2231\u001b[0m         \u001b[0me\u001b[0m \u001b[1;33m=\u001b[0m \u001b[1;34m\"Element of the '%s' trait of %s instance must be %s, but a value of %s was specified.\"\u001b[0m\u001b[0;31m \u001b[0m\u001b[0;31m\\\u001b[0m\u001b[1;33m\u001b[0m\u001b[1;33m\u001b[0m\u001b[0m\n\u001b[0;32m   2232\u001b[0m             \u001b[1;33m%\u001b[0m \u001b[1;33m(\u001b[0m\u001b[0mself\u001b[0m\u001b[1;33m.\u001b[0m\u001b[0mname\u001b[0m\u001b[1;33m,\u001b[0m \u001b[0mclass_of\u001b[0m\u001b[1;33m(\u001b[0m\u001b[0mobj\u001b[0m\u001b[1;33m)\u001b[0m\u001b[1;33m,\u001b[0m \u001b[0mvalidator\u001b[0m\u001b[1;33m.\u001b[0m\u001b[0minfo\u001b[0m\u001b[1;33m(\u001b[0m\u001b[1;33m)\u001b[0m\u001b[1;33m,\u001b[0m \u001b[0mrepr_type\u001b[0m\u001b[1;33m(\u001b[0m\u001b[0melement\u001b[0m\u001b[1;33m)\u001b[0m\u001b[1;33m)\u001b[0m\u001b[1;33m\u001b[0m\u001b[1;33m\u001b[0m\u001b[0m\n\u001b[1;32m-> 2233\u001b[1;33m         \u001b[1;32mraise\u001b[0m \u001b[0mTraitError\u001b[0m\u001b[1;33m(\u001b[0m\u001b[0me\u001b[0m\u001b[1;33m)\u001b[0m\u001b[1;33m\u001b[0m\u001b[1;33m\u001b[0m\u001b[0m\n\u001b[0m\u001b[0;32m   2234\u001b[0m \u001b[1;33m\u001b[0m\u001b[0m\n\u001b[0;32m   2235\u001b[0m     \u001b[1;32mdef\u001b[0m \u001b[0mvalidate\u001b[0m\u001b[1;33m(\u001b[0m\u001b[0mself\u001b[0m\u001b[1;33m,\u001b[0m \u001b[0mobj\u001b[0m\u001b[1;33m,\u001b[0m \u001b[0mvalue\u001b[0m\u001b[1;33m)\u001b[0m\u001b[1;33m:\u001b[0m\u001b[1;33m\u001b[0m\u001b[1;33m\u001b[0m\u001b[0m\n",
      "\u001b[1;31mTraitError\u001b[0m: Element of the 'children' trait of a VBox instance must be a Widget, but a value of Figure({\n    'data': [{'hovertemplate': ('<b>%{hovertext}</b><br><br>Cou' ... '=%{marker.size}<extra></extra>'),\n              'hovertext': array(['World'], dtype=object),\n              'legendgroup': 'World',\n              'marker': {'color': '#636efa',\n                         'size': array([3232061]),\n                         'sizemode': 'area',\n                         'sizeref': 897.7947222222223,\n                         'symbol': 'circle'},\n              'mode': 'markers',\n              'name': 'World',\n              'showlegend': True,\n              'type': 'scatter',\n              'x': array(['World'], dtype=object),\n              'xaxis': 'x',\n              'y': array([3232061]),\n              'yaxis': 'y'},\n             {'hovertemplate': ('<b>%{hovertext}</b><br><br>Cou' ... '=%{marker.size}<extra></extra>'),\n              'hovertext': array(['USA'], dtype=object),\n              'legendgroup': 'USA',\n              'marker': {'color': '#EF553B',\n                         'size': array([1064572]),\n                         'sizemode': 'area',\n                         'sizeref': 897.7947222222223,\n                         'symbol': 'circle'},\n              'mode': 'markers',\n              'name': 'USA',\n              'showlegend': True,\n              'type': 'scatter',\n              'x': array(['USA'], dtype=object),\n              'xaxis': 'x',\n              'y': array([1064572]),\n              'yaxis': 'y'},\n             {'hovertemplate': ('<b>%{hovertext}</b><br><br>Cou' ... '=%{marker.size}<extra></extra>'),\n              'hovertext': array(['Spain'], dtype=object),\n              'legendgroup': 'Spain',\n              'marker': {'color': '#00cc96',\n                         'size': array([236899]),\n                         'sizemode': 'area',\n                         'sizeref': 897.7947222222223,\n                         'symbol': 'circle'},\n              'mode': 'markers',\n              'name': 'Spain',\n              'showlegend': True,\n              'type': 'scatter',\n              'x': array(['Spain'], dtype=object),\n              'xaxis': 'x',\n              'y': array([236899]),\n              'yaxis': 'y'},\n             {'hovertemplate': ('<b>%{hovertext}</b><br><br>Cou' ... '=%{marker.size}<extra></extra>'),\n              'hovertext': array(['Italy'], dtype=object),\n              'legendgroup': 'Italy',\n              'marker': {'color': '#ab63fa',\n                         'size': array([203591]),\n                         'sizemode': 'area',\n                         'sizeref': 897.7947222222223,\n                         'symbol': 'circle'},\n              'mode': 'markers',\n              'name': 'Italy',\n              'showlegend': True,\n              'type': 'scatter',\n              'x': array(['Italy'], dtype=object),\n              'xaxis': 'x',\n              'y': array([203591]),\n              'yaxis': 'y'},\n             {'hovertemplate': ('<b>%{hovertext}</b><br><br>Cou' ... '=%{marker.size}<extra></extra>'),\n              'hovertext': array(['France'], dtype=object),\n              'legendgroup': 'France',\n              'marker': {'color': '#FFA15A',\n                         'size': array([166420]),\n                         'sizemode': 'area',\n                         'sizeref': 897.7947222222223,\n                         'symbol': 'circle'},\n              'mode': 'markers',\n              'name': 'France',\n              'showlegend': True,\n              'type': 'scatter',\n              'x': array(['France'], dtype=object),\n              'xaxis': 'x',\n              'y': array([166420]),\n              'yaxis': 'y'},\n             {'hovertemplate': ('<b>%{hovertext}</b><br><br>Cou' ... '=%{marker.size}<extra></extra>'),\n              'hovertext': array(['UK'], dtype=object),\n              'legendgroup': 'UK',\n              'marker': {'color': '#19d3f3',\n                         'size': array([165221]),\n                         'sizemode': 'area',\n                         'sizeref': 897.7947222222223,\n                         'symbol': 'circle'},\n              'mode': 'markers',\n              'name': 'UK',\n              'showlegend': True,\n              'type': 'scatter',\n              'x': array(['UK'], dtype=object),\n              'xaxis': 'x',\n              'y': array([165221]),\n              'yaxis': 'y'},\n             {'hovertemplate': ('<b>%{hovertext}</b><br><br>Cou' ... '=%{marker.size}<extra></extra>'),\n              'hovertext': array(['Germany'], dtype=object),\n              'legendgroup': 'Germany',\n              'marker': {'color': '#FF6692',\n                         'size': array([161539]),\n                         'sizemode': 'area',\n                         'sizeref': 897.7947222222223,\n                         'symbol': 'circle'},\n              'mode': 'markers',\n              'name': 'Germany',\n              'showlegend': True,\n              'type': 'scatter',\n              'x': array(['Germany'], dtype=object),\n              'xaxis': 'x',\n              'y': array([161539]),\n              'yaxis': 'y'},\n             {'hovertemplate': ('<b>%{hovertext}</b><br><br>Cou' ... '=%{marker.size}<extra></extra>'),\n              'hovertext': array(['Turkey'], dtype=object),\n              'legendgroup': 'Turkey',\n              'marker': {'color': '#B6E880',\n                         'size': array([117589]),\n                         'sizemode': 'area',\n                         'sizeref': 897.7947222222223,\n                         'symbol': 'circle'},\n              'mode': 'markers',\n              'name': 'Turkey',\n              'showlegend': True,\n              'type': 'scatter',\n              'x': array(['Turkey'], dtype=object),\n              'xaxis': 'x',\n              'y': array([117589]),\n              'yaxis': 'y'},\n             {'hovertemplate': ('<b>%{hovertext}</b><br><br>Cou' ... '=%{marker.size}<extra></extra>'),\n              'hovertext': array(['Russia'], dtype=object),\n              'legendgroup': 'Russia',\n              'marker': {'color': '#FF97FF',\n                         'size': array([106498]),\n                         'sizemode': 'area',\n                         'sizeref': 897.7947222222223,\n                         'symbol': 'circle'},\n              'mode': 'markers',\n              'name': 'Russia',\n              'showlegend': True,\n              'type': 'scatter',\n              'x': array(['Russia'], dtype=object),\n              'xaxis': 'x',\n              'y': array([106498]),\n              'yaxis': 'y'},\n             {'hovertemplate': ('<b>%{hovertext}</b><br><br>Cou' ... '=%{marker.size}<extra></extra>'),\n              'hovertext': array(['Iran'], dtype=object),\n              'legendgroup': 'Iran',\n              'marker': {'color': '#FECB52',\n                         'size': array([93657]),\n                         'sizemode': 'area',\n                         'sizeref': 897.7947222222223,\n                         'symbol': 'circle'},\n              'mode': 'markers',\n              'name': 'Iran',\n              'showlegend': True,\n              'type': 'scatter',\n              'x': array(['Iran'], dtype=object),\n              'xaxis': 'x',\n              'y': array([93657]),\n              'yaxis': 'y'}],\n    'layout': {'legend': {'itemsizing': 'constant', 'title': {'text': 'Country'}, 'tracegroupgap': 0},\n               'margin': {'t': 60},\n               'template': '...',\n               'title': {'text': ' Worst hit countries'},\n               'width': 700,\n               'xaxis': {'anchor': 'y',\n                         'categoryarray': [World, USA, Spain, Italy, France, UK,\n                                           Germany, Turkey, Russia, Iran],\n                         'categoryorder': 'array',\n                         'domain': [0.0, 1.0],\n                         'title': {'text': 'Countries'}},\n               'yaxis': {'anchor': 'x', 'domain': [0.0, 1.0], 'title': {'text': 'Confirmed Cases'}}}\n}) <class 'plotly.graph_objs._figure.Figure'> was specified."
     ]
    }
   ],
   "source": [
    "def bubble_chart(n):\n",
    "    fig = px.scatter(df_country.head(n), x=\"Country\", y=\"Total_Cases\", size=\"Total_Cases\", color=\"Country\",\n",
    "               hover_name=\"Country\", size_max=60)\n",
    "    fig.update_layout(\n",
    "    title=str(n) +\" Worst hit countries\",\n",
    "    xaxis_title=\"Countries\",\n",
    "    yaxis_title=\"Confirmed Cases\",\n",
    "    width = 700\n",
    "    )\n",
    "    fig.show();\n",
    "\n",
    "interact(bubble_chart, n=10)\n",
    "\n",
    "ipywLayout = widgets.Layout(border='solid 2px green')\n",
    "ipywLayout.display='none'\n",
    "widgets.VBox([fig], layout=ipywLayout)"
   ]
  },
  {
   "cell_type": "code",
   "execution_count": null,
   "metadata": {},
   "outputs": [],
   "source": []
  }
 ],
 "metadata": {
  "kernelspec": {
   "display_name": "Python 3",
   "language": "python",
   "name": "python3"
  },
  "language_info": {
   "codemirror_mode": {
    "name": "ipython",
    "version": 3
   },
   "file_extension": ".py",
   "mimetype": "text/x-python",
   "name": "python",
   "nbconvert_exporter": "python",
   "pygments_lexer": "ipython3",
   "version": "3.7.4"
  }
 },
 "nbformat": 4,
 "nbformat_minor": 2
}
